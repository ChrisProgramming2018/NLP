{
 "cells": [
  {
   "cell_type": "markdown",
   "metadata": {
    "collapsed": true
   },
   "source": [
    "# Artificial Intelligence Nanodegree\n",
    "## Machine Translation Project\n",
    "In this notebook, sections that end with **'(IMPLEMENTATION)'** in the header indicate that the following blocks of code will require additional functionality which you must provide. Please be sure to read the instructions carefully!\n",
    "\n",
    "## Introduction\n",
    "In this notebook, you will build a deep neural network that functions as part of an end-to-end machine translation pipeline. Your completed pipeline will accept English text as input and return the French translation.\n",
    "\n",
    "- **Preprocess** - You'll convert text to sequence of integers.\n",
    "- **Models** Create models which accepts a sequence of integers as input and returns a probability distribution over possible translations. After learning about the basic types of neural networks that are often used for machine translation, you will engage in your own investigations, to design your own model!\n",
    "- **Prediction** Run the model on English text."
   ]
  },
  {
   "cell_type": "code",
   "execution_count": 1,
   "metadata": {},
   "outputs": [],
   "source": [
    "# use python3 kernel"
   ]
  },
  {
   "cell_type": "code",
   "execution_count": 1,
   "metadata": {},
   "outputs": [],
   "source": [
    "import sys\n",
    "import os\n",
    "sys.path.append(os.getcwd())"
   ]
  },
  {
   "cell_type": "code",
   "execution_count": 2,
   "metadata": {},
   "outputs": [
    {
     "data": {
      "text/plain": [
       "['',\n",
       " '/usr/lib/python35.zip',\n",
       " '/usr/lib/python3.5',\n",
       " '/usr/lib/python3.5/plat-x86_64-linux-gnu',\n",
       " '/usr/lib/python3.5/lib-dynload',\n",
       " '/usr/local/lib/python3.5/dist-packages',\n",
       " '/usr/local/lib/python3.5/dist-packages/wordcloud-1.4.1-py3.5-linux-x86_64.egg',\n",
       " '/usr/lib/python3/dist-packages',\n",
       " '/usr/lib/python3.5/dist-packages',\n",
       " '/usr/local/lib/python3.5/dist-packages/IPython/extensions',\n",
       " '/home/info/.ipython',\n",
       " '/home/info/udacity/naturalLaguageProcesssing/project/machineTranslation/aind2-nlp-capstone']"
      ]
     },
     "execution_count": 2,
     "metadata": {},
     "output_type": "execute_result"
    }
   ],
   "source": [
    "sys.path"
   ]
  },
  {
   "cell_type": "code",
   "execution_count": 3,
   "metadata": {},
   "outputs": [
    {
     "name": "stderr",
     "output_type": "stream",
     "text": [
      "/usr/local/lib/python3.5/dist-packages/h5py/__init__.py:36: FutureWarning: Conversion of the second argument of issubdtype from `float` to `np.floating` is deprecated. In future, it will be treated as `np.float64 == np.dtype(float).type`.\n",
      "  from ._conv import register_converters as _register_converters\n",
      "Using TensorFlow backend.\n"
     ]
    },
    {
     "data": {
      "text/plain": [
       "'2.1.0'"
      ]
     },
     "execution_count": 3,
     "metadata": {},
     "output_type": "execute_result"
    }
   ],
   "source": [
    "import keras\n",
    "keras.__version__"
   ]
  },
  {
   "cell_type": "code",
   "execution_count": 4,
   "metadata": {},
   "outputs": [],
   "source": [
    "%load_ext autoreload\n",
    "import helper, tests\n",
    "%autoreload 1"
   ]
  },
  {
   "cell_type": "code",
   "execution_count": 5,
   "metadata": {},
   "outputs": [],
   "source": [
    "import collections\n",
    "\n",
    "import helper\n",
    "import numpy as np\n",
    "import project_tests as tests\n",
    "\n",
    "from keras.preprocessing.text import Tokenizer\n",
    "from keras.preprocessing.sequence import pad_sequences\n",
    "from keras.models import Model\n",
    "from keras.layers import GRU, Input, Dense, TimeDistributed, Activation, RepeatVector, Bidirectional \n",
    "from keras.layers.embeddings import Embedding\n",
    "from keras.optimizers import Adam\n",
    "from keras.losses import sparse_categorical_crossentropy"
   ]
  },
  {
   "cell_type": "code",
   "execution_count": 6,
   "metadata": {},
   "outputs": [],
   "source": [
    "from keras.layers import CuDNNLSTM\n",
    "from keras.layers import CuDNNGRU"
   ]
  },
  {
   "cell_type": "code",
   "execution_count": 7,
   "metadata": {},
   "outputs": [
    {
     "data": {
      "text/plain": [
       "'1.2.0'"
      ]
     },
     "execution_count": 7,
     "metadata": {},
     "output_type": "execute_result"
    }
   ],
   "source": [
    "import tensorflow\n",
    "tensorflow.__version__"
   ]
  },
  {
   "cell_type": "markdown",
   "metadata": {},
   "source": [
    "### Verify access to the GPU\n",
    "The following test applies only if you expect to be using a GPU, e.g., while running in a Udacity Workspace or using an AWS instance with GPU support. Run the next cell, and verify that the device_type is \"GPU\".\n",
    "- If the device is not GPU & you are running from a Udacity Workspace, then save your workspace with the icon at the top, then click \"enable\" at the bottom of the workspace.\n",
    "- If the device is not GPU & you are running from an AWS instance, then refer to the cloud computing instructions in the classroom to verify your setup steps."
   ]
  },
  {
   "cell_type": "code",
   "execution_count": 8,
   "metadata": {},
   "outputs": [
    {
     "name": "stdout",
     "output_type": "stream",
     "text": [
      "[name: \"/cpu:0\"\n",
      "device_type: \"CPU\"\n",
      "memory_limit: 268435456\n",
      "locality {\n",
      "}\n",
      "incarnation: 2042868447855578603\n",
      ", name: \"/gpu:0\"\n",
      "device_type: \"GPU\"\n",
      "memory_limit: 10278184551\n",
      "locality {\n",
      "  bus_id: 1\n",
      "}\n",
      "incarnation: 777071094548473999\n",
      "physical_device_desc: \"device: 0, name: GeForce GTX 1080 Ti, pci bus id: 0000:03:00.0\"\n",
      "]\n"
     ]
    }
   ],
   "source": [
    "from tensorflow.python.client import device_lib\n",
    "print(device_lib.list_local_devices())"
   ]
  },
  {
   "cell_type": "markdown",
   "metadata": {},
   "source": [
    "## Dataset\n",
    "We begin by investigating the dataset that will be used to train and evaluate your pipeline.  The most common datasets used for machine translation are from [WMT](http://www.statmt.org/).  However, that will take a long time to train a neural network on.  We'll be using a dataset we created for this project that contains a small vocabulary.  You'll be able to train your model in a reasonable time with this dataset.\n",
    "### Load Data\n",
    "The data is located in `data/small_vocab_en` and `data/small_vocab_fr`. The `small_vocab_en` file contains English sentences with their French translations in the `small_vocab_fr` file. Load the English and French data from these files from running the cell below."
   ]
  },
  {
   "cell_type": "code",
   "execution_count": 9,
   "metadata": {},
   "outputs": [
    {
     "name": "stdout",
     "output_type": "stream",
     "text": [
      "Dataset Loaded\n"
     ]
    }
   ],
   "source": [
    "# Load English data\n",
    "english_sentences = helper.load_data('data/small_vocab_en')\n",
    "# Load French data\n",
    "french_sentences = helper.load_data('data/small_vocab_fr')\n",
    "\n",
    "print('Dataset Loaded')"
   ]
  },
  {
   "cell_type": "markdown",
   "metadata": {},
   "source": [
    "### Files\n",
    "Each line in `small_vocab_en` contains an English sentence with the respective translation in each line of `small_vocab_fr`.  View the first two lines from each file."
   ]
  },
  {
   "cell_type": "code",
   "execution_count": 10,
   "metadata": {},
   "outputs": [
    {
     "name": "stdout",
     "output_type": "stream",
     "text": [
      "small_vocab_en Line 1:  new jersey is sometimes quiet during autumn , and it is snowy in april .\n",
      "small_vocab_fr Line 1:  new jersey est parfois calme pendant l' automne , et il est neigeux en avril .\n",
      "small_vocab_en Line 2:  the united states is usually chilly during july , and it is usually freezing in november .\n",
      "small_vocab_fr Line 2:  les états-unis est généralement froid en juillet , et il gèle habituellement en novembre .\n"
     ]
    }
   ],
   "source": [
    "for sample_i in range(2):\n",
    "    print('small_vocab_en Line {}:  {}'.format(sample_i + 1, english_sentences[sample_i]))\n",
    "    print('small_vocab_fr Line {}:  {}'.format(sample_i + 1, french_sentences[sample_i]))"
   ]
  },
  {
   "cell_type": "code",
   "execution_count": 11,
   "metadata": {},
   "outputs": [
    {
     "data": {
      "text/plain": [
       "137861"
      ]
     },
     "execution_count": 11,
     "metadata": {},
     "output_type": "execute_result"
    }
   ],
   "source": [
    "len(english_sentences)"
   ]
  },
  {
   "cell_type": "markdown",
   "metadata": {},
   "source": [
    "From looking at the sentences, you can see they have been preprocessed already.  The puncuations have been delimited using spaces. All the text have been converted to lowercase.  This should save you some time, but the text requires more preprocessing.\n",
    "### Vocabulary\n",
    "The complexity of the problem is determined by the complexity of the vocabulary.  A more complex vocabulary is a more complex problem.  Let's look at the complexity of the dataset we'll be working with."
   ]
  },
  {
   "cell_type": "code",
   "execution_count": 12,
   "metadata": {},
   "outputs": [
    {
     "name": "stdout",
     "output_type": "stream",
     "text": [
      "1823250 English words.\n",
      "227 unique English words.\n",
      "10 Most common words in the English dataset:\n",
      "\"is\" \",\" \".\" \"in\" \"it\" \"during\" \"the\" \"but\" \"and\" \"sometimes\"\n",
      "\n",
      "1961295 French words.\n",
      "355 unique French words.\n",
      "10 Most common words in the French dataset:\n",
      "\"est\" \".\" \",\" \"en\" \"il\" \"les\" \"mais\" \"et\" \"la\" \"parfois\"\n"
     ]
    }
   ],
   "source": [
    "english_words_counter = collections.Counter([word for sentence in english_sentences for word in sentence.split()])\n",
    "french_words_counter = collections.Counter([word for sentence in french_sentences for word in sentence.split()])\n",
    "\n",
    "print('{} English words.'.format(len([word for sentence in english_sentences for word in sentence.split()])))\n",
    "print('{} unique English words.'.format(len(english_words_counter)))\n",
    "print('10 Most common words in the English dataset:')\n",
    "print('\"' + '\" \"'.join(list(zip(*english_words_counter.most_common(10)))[0]) + '\"')\n",
    "print()\n",
    "print('{} French words.'.format(len([word for sentence in french_sentences for word in sentence.split()])))\n",
    "print('{} unique French words.'.format(len(french_words_counter)))\n",
    "print('10 Most common words in the French dataset:')\n",
    "print('\"' + '\" \"'.join(list(zip(*french_words_counter.most_common(10)))[0]) + '\"')"
   ]
  },
  {
   "cell_type": "markdown",
   "metadata": {},
   "source": [
    "For comparison, _Alice's Adventures in Wonderland_ contains 2,766 unique words of a total of 15,500 words.\n",
    "## Preprocess\n",
    "For this project, you won't use text data as input to your model. Instead, you'll convert the text into sequences of integers using the following preprocess methods:\n",
    "1. Tokenize the words into ids\n",
    "2. Add padding to make all the sequences the same length.\n",
    "\n",
    "Time to start preprocessing the data...\n",
    "### Tokenize (IMPLEMENTATION)\n",
    "For a neural network to predict on text data, it first has to be turned into data it can understand. Text data like \"dog\" is a sequence of ASCII character encodings.  Since a neural network is a series of multiplication and addition operations, the input data needs to be number(s).\n",
    "\n",
    "We can turn each character into a number or each word into a number.  These are called character and word ids, respectively.  Character ids are used for character level models that generate text predictions for each character.  A word level model uses word ids that generate text predictions for each word.  Word level models tend to learn better, since they are lower in complexity, so we'll use those.\n",
    "\n",
    "Turn each sentence into a sequence of words ids using Keras's [`Tokenizer`](https://keras.io/preprocessing/text/#tokenizer) function. Use this function to tokenize `english_sentences` and `french_sentences` in the cell below.\n",
    "\n",
    "Running the cell will run `tokenize` on sample data and show output for debugging."
   ]
  },
  {
   "cell_type": "code",
   "execution_count": 13,
   "metadata": {},
   "outputs": [
    {
     "name": "stdout",
     "output_type": "stream",
     "text": [
      "{'is': 19, 'this': 18, 'the': 1, 'quick': 2, 'fox': 5, 'jumps': 6, 'lexicography': 15, 'short': 20, 'prize': 17, 'of': 14, 'won': 16, 'brown': 4, 'dog': 9, 'jove': 11, 'over': 7, 'by': 10, 'study': 13, 'a': 3, 'my': 12, 'lazy': 8, 'sentence': 21}\n",
      "\n",
      "Sequence 1 in x\n",
      "  Input:  The quick brown fox jumps over the lazy dog .\n",
      "  Output: [1, 2, 4, 5, 6, 7, 1, 8, 9]\n",
      "Sequence 2 in x\n",
      "  Input:  By Jove , my quick study of lexicography won a prize .\n",
      "  Output: [10, 11, 12, 2, 13, 14, 15, 16, 3, 17]\n",
      "Sequence 3 in x\n",
      "  Input:  This is a short sentence .\n",
      "  Output: [18, 19, 3, 20, 21]\n"
     ]
    }
   ],
   "source": [
    "def tokenize(x):\n",
    "    \"\"\"\n",
    "    Tokenize x\n",
    "    :param x: List of sentences/strings to be tokenized\n",
    "    :return: Tuple of (tokenized x data, tokenizer used to tokenize x)\n",
    "    \"\"\"\n",
    "    # TODO: Implement\n",
    "    tokenizer = Tokenizer()\n",
    "    tokenizer.fit_on_texts(x)\n",
    "    text_tokenized = tokenizer.texts_to_sequences(x)\n",
    "    text_tokenizer = tokenizer\n",
    "    return text_tokenized, text_tokenizer\n",
    "tests.test_tokenize(tokenize)\n",
    "\n",
    "# Tokenize Example output\n",
    "text_sentences = [\n",
    "    'The quick brown fox jumps over the lazy dog .',\n",
    "    'By Jove , my quick study of lexicography won a prize .',\n",
    "    'This is a short sentence .']\n",
    "text_tokenized, text_tokenizer = tokenize(text_sentences)\n",
    "print(text_tokenizer.word_index)\n",
    "print()\n",
    "for sample_i, (sent, token_sent) in enumerate(zip(text_sentences, text_tokenized)):\n",
    "    print('Sequence {} in x'.format(sample_i + 1))\n",
    "    print('  Input:  {}'.format(sent))\n",
    "    print('  Output: {}'.format(token_sent))"
   ]
  },
  {
   "cell_type": "markdown",
   "metadata": {},
   "source": [
    "### Padding (IMPLEMENTATION)\n",
    "When batching the sequence of word ids together, each sequence needs to be the same length.  Since sentences are dynamic in length, we can add padding to the end of the sequences to make them the same length.\n",
    "\n",
    "Make sure all the English sequences have the same length and all the French sequences have the same length by adding padding to the **end** of each sequence using Keras's [`pad_sequences`](https://keras.io/preprocessing/sequence/#pad_sequences) function."
   ]
  },
  {
   "cell_type": "code",
   "execution_count": 14,
   "metadata": {},
   "outputs": [
    {
     "name": "stdout",
     "output_type": "stream",
     "text": [
      "Sequence 1 in x\n",
      "  Input:  [1 2 4 5 6 7 1 8 9]\n",
      "  Output: [1 2 4 5 6 7 1 8 9 0]\n",
      "Sequence 2 in x\n",
      "  Input:  [10 11 12  2 13 14 15 16  3 17]\n",
      "  Output: [10 11 12  2 13 14 15 16  3 17]\n",
      "Sequence 3 in x\n",
      "  Input:  [18 19  3 20 21]\n",
      "  Output: [18 19  3 20 21  0  0  0  0  0]\n"
     ]
    }
   ],
   "source": [
    "def pad(x, length=None):\n",
    "    \"\"\"\n",
    "    Pad x\n",
    "    :param x: List of sequences.\n",
    "    :param length: Length to pad the sequence to.  If None, use length of longest sequence in x.\n",
    "    :return: Padded numpy array of sequences\n",
    "    \"\"\"\n",
    "    # TODO: Implement\n",
    "    if length == None:\n",
    "        length = max(x, key=len)\n",
    "        length = len(length)\n",
    "    return pad_sequences(x, maxlen=length, padding='post') \n",
    "tests.test_pad(pad)\n",
    "\n",
    "# Pad Tokenized output\n",
    "test_pad = pad(text_tokenized)\n",
    "for sample_i, (token_sent, pad_sent) in enumerate(zip(text_tokenized, test_pad)):\n",
    "    print('Sequence {} in x'.format(sample_i + 1))\n",
    "    print('  Input:  {}'.format(np.array(token_sent)))\n",
    "    print('  Output: {}'.format(pad_sent))"
   ]
  },
  {
   "cell_type": "markdown",
   "metadata": {},
   "source": [
    "### Preprocess Pipeline\n",
    "Your focus for this project is to build neural network architecture, so we won't ask you to create a preprocess pipeline.  Instead, we've provided you with the implementation of the `preprocess` function."
   ]
  },
  {
   "cell_type": "code",
   "execution_count": 15,
   "metadata": {},
   "outputs": [
    {
     "name": "stdout",
     "output_type": "stream",
     "text": [
      "Data Preprocessed\n",
      "Max English sentence length: 15\n",
      "Max French sentence length: 21\n",
      "English vocabulary size: 199\n",
      "French vocabulary size: 344\n"
     ]
    }
   ],
   "source": [
    "def preprocess(x, y):\n",
    "    \"\"\"\n",
    "    Preprocess x and y\n",
    "    :param x: Feature List of sentences\n",
    "    :param y: Label List of sentences\n",
    "    :return: Tuple of (Preprocessed x, Preprocessed y, x tokenizer, y tokenizer)\n",
    "    \"\"\"\n",
    "    preprocess_x, x_tk = tokenize(x)\n",
    "    preprocess_y, y_tk = tokenize(y)\n",
    "\n",
    "    preprocess_x = pad(preprocess_x)\n",
    "    preprocess_y = pad(preprocess_y)\n",
    "\n",
    "    # Keras's sparse_categorical_crossentropy function requires the labels to be in 3 dimensions\n",
    "    preprocess_y = preprocess_y.reshape(*preprocess_y.shape, 1)\n",
    "\n",
    "    return preprocess_x, preprocess_y, x_tk, y_tk\n",
    "\n",
    "preproc_english_sentences, preproc_french_sentences, english_tokenizer, french_tokenizer =\\\n",
    "    preprocess(english_sentences, french_sentences)\n",
    "    \n",
    "max_english_sequence_length = preproc_english_sentences.shape[1]\n",
    "max_french_sequence_length = preproc_french_sentences.shape[1]\n",
    "english_vocab_size = len(english_tokenizer.word_index)\n",
    "french_vocab_size = len(french_tokenizer.word_index)\n",
    "\n",
    "print('Data Preprocessed')\n",
    "print(\"Max English sentence length:\", max_english_sequence_length)\n",
    "print(\"Max French sentence length:\", max_french_sequence_length)\n",
    "print(\"English vocabulary size:\", english_vocab_size)\n",
    "print(\"French vocabulary size:\", french_vocab_size)"
   ]
  },
  {
   "cell_type": "markdown",
   "metadata": {},
   "source": [
    "## Models\n",
    "In this section, you will experiment with various neural network architectures.\n",
    "You will begin by training four relatively simple architectures.\n",
    "- Model 1 is a simple RNN\n",
    "- Model 2 is a RNN with Embedding\n",
    "- Model 3 is a Bidirectional RNN\n",
    "- Model 4 is an optional Encoder-Decoder RNN\n",
    "\n",
    "After experimenting with the four simple architectures, you will construct a deeper architecture that is designed to outperform all four models.\n",
    "### Ids Back to Text\n",
    "The neural network will be translating the input to words ids, which isn't the final form we want.  We want the French translation.  The function `logits_to_text` will bridge the gab between the logits from the neural network to the French translation.  You'll be using this function to better understand the output of the neural network."
   ]
  },
  {
   "cell_type": "code",
   "execution_count": 22,
   "metadata": {},
   "outputs": [
    {
     "name": "stdout",
     "output_type": "stream",
     "text": [
      "`logits_to_text` function loaded.\n"
     ]
    }
   ],
   "source": [
    "def logits_to_text(logits, tokenizer):\n",
    "    \"\"\"\n",
    "    Turn logits from a neural network into text using the tokenizer\n",
    "    :param logits: Logits from a neural network\n",
    "    :param tokenizer: Keras Tokenizer fit on the labels\n",
    "    :return: String that represents the text of the logits\n",
    "    \"\"\"\n",
    "    index_to_words = {id: word for word, id in tokenizer.word_index.items()}\n",
    "    index_to_words[0] = '<PAD>'\n",
    "\n",
    "    return ' '.join([index_to_words[prediction] for prediction in np.argmax(logits, 1)])\n",
    "\n",
    "print('`logits_to_text` function loaded.')"
   ]
  },
  {
   "cell_type": "markdown",
   "metadata": {},
   "source": [
    "### Model 1: RNN (IMPLEMENTATION)\n",
    "![RNN](images/rnn.png)\n",
    "A basic RNN model is a good baseline for sequence data.  In this model, you'll build a RNN that translates English to French."
   ]
  },
  {
   "cell_type": "code",
   "execution_count": 18,
   "metadata": {},
   "outputs": [
    {
     "name": "stdout",
     "output_type": "stream",
     "text": [
      "Train on 110288 samples, validate on 27573 samples\n",
      "Epoch 1/10\n",
      "110288/110288 [==============================] - 4s 39us/step - loss: 2.7197 - acc: 0.4657 - val_loss: nan - val_acc: 0.5319\n",
      "Epoch 2/10\n",
      "110288/110288 [==============================] - 4s 34us/step - loss: 1.7702 - acc: 0.5696 - val_loss: nan - val_acc: 0.5954\n",
      "Epoch 3/10\n",
      "110288/110288 [==============================] - 4s 34us/step - loss: 1.5132 - acc: 0.6030 - val_loss: nan - val_acc: 0.6125\n",
      "Epoch 4/10\n",
      "110288/110288 [==============================] - 4s 33us/step - loss: 1.3873 - acc: 0.6221 - val_loss: nan - val_acc: 0.6309\n",
      "Epoch 5/10\n",
      "110288/110288 [==============================] - 4s 34us/step - loss: 1.2952 - acc: 0.6375 - val_loss: nan - val_acc: 0.6381\n",
      "Epoch 6/10\n",
      "110288/110288 [==============================] - 4s 34us/step - loss: 1.2222 - acc: 0.6472 - val_loss: nan - val_acc: 0.6527\n",
      "Epoch 7/10\n",
      "110288/110288 [==============================] - 4s 34us/step - loss: 1.1673 - acc: 0.6566 - val_loss: nan - val_acc: 0.6614\n",
      "Epoch 8/10\n",
      "110288/110288 [==============================] - 4s 35us/step - loss: 1.1238 - acc: 0.6641 - val_loss: nan - val_acc: 0.6692\n",
      "Epoch 9/10\n",
      "110288/110288 [==============================] - 4s 35us/step - loss: 1.0891 - acc: 0.6683 - val_loss: nan - val_acc: 0.6772\n",
      "Epoch 10/10\n",
      "110288/110288 [==============================] - 4s 35us/step - loss: 1.0589 - acc: 0.6723 - val_loss: nan - val_acc: 0.6749\n",
      "new jersey est parfois calme en mois de il et il est en en <PAD> <PAD> <PAD> <PAD> <PAD> <PAD> <PAD>\n"
     ]
    }
   ],
   "source": [
    "def simple_model(input_shape, output_sequence_length, english_vocab_size, french_vocab_size):\n",
    "    \"\"\"\n",
    "    Build and train a basic RNN on x and y\n",
    "    :param input_shape: Tuple of input shape\n",
    "    :param output_sequence_length: Length of output sequence\n",
    "    :param english_vocab_size: Number of unique English words in the dataset\n",
    "    :param french_vocab_size: Number of unique French words in the dataset\n",
    "    :return: Keras model built, but not trained\n",
    "    \"\"\"\n",
    "    # TODO: Build the layers\n",
    "    learning_rate = 0.001\n",
    "    input_seq = Input(shape=input_shape[1:])\n",
    "    rnn = GRU(english_vocab_size, return_sequences=True)(input_seq )\n",
    "    logits = TimeDistributed(Dense(french_vocab_size))(rnn)\n",
    "    \n",
    "    model = Model(input_seq, Activation('softmax')(logits))\n",
    "    model.compile(loss=sparse_categorical_crossentropy,\n",
    "                  optimizer=Adam(learning_rate),\n",
    "                  metrics=['accuracy'])\n",
    "    return model\n",
    "tests.test_simple_model(simple_model)\n",
    "\n",
    "# Reshaping the input to work with a basic RNN\n",
    "tmp_x = pad(preproc_english_sentences, max_french_sequence_length)\n",
    "tmp_x = tmp_x.reshape((-1, preproc_french_sentences.shape[-2], 1))\n",
    "\n",
    "# Train the neural network\n",
    "simple_rnn_model = simple_model(\n",
    "    tmp_x.shape,\n",
    "    max_french_sequence_length,\n",
    "    english_vocab_size,\n",
    "    french_vocab_size)\n",
    "simple_rnn_model.fit(tmp_x, preproc_french_sentences, batch_size=1024, epochs=10, validation_split=0.2)\n",
    "\n",
    "# Print prediction(s)\n",
    "print(logits_to_text(simple_rnn_model.predict(tmp_x[:1])[0], french_tokenizer))"
   ]
  },
  {
   "cell_type": "code",
   "execution_count": 19,
   "metadata": {},
   "outputs": [
    {
     "name": "stdout",
     "output_type": "stream",
     "text": [
      "Input text was: new jersey is sometimes quiet during autumn and it is snowy in april \n"
     ]
    }
   ],
   "source": [
    "text = ''\n",
    "for x in tmp_x[:1][0]:\n",
    "     for item in english_tokenizer.word_index.items():\n",
    "        if x == item[1]:\n",
    "            text += item[0]\n",
    "            #print('item', item[0])\n",
    "            text += ' '\n",
    "print('Input text was:', text)"
   ]
  },
  {
   "cell_type": "markdown",
   "metadata": {},
   "source": [
    "### Model 2: Embedding (IMPLEMENTATION)\n",
    "![RNN](images/embedding.png)\n",
    "You've turned the words into ids, but there's a better representation of a word.  This is called word embeddings.  An embedding is a vector representation of the word that is close to similar words in n-dimensional space, where the n represents the size of the embedding vectors.\n",
    "\n",
    "In this model, you'll create a RNN model using embedding."
   ]
  },
  {
   "cell_type": "code",
   "execution_count": 39,
   "metadata": {},
   "outputs": [
    {
     "name": "stdout",
     "output_type": "stream",
     "text": [
      "Train on 110288 samples, validate on 27573 samples\n",
      "Epoch 1/50\n",
      "110288/110288 [==============================] - 4s 37us/step - loss: 4.6588 - acc: 0.3853 - val_loss: nan - val_acc: 0.4093\n",
      "Epoch 2/50\n",
      "110288/110288 [==============================] - 4s 32us/step - loss: 3.1430 - acc: 0.4102 - val_loss: nan - val_acc: 0.4129\n",
      "Epoch 3/50\n",
      "110288/110288 [==============================] - 4s 32us/step - loss: 3.0076 - acc: 0.4119 - val_loss: nan - val_acc: 0.4130\n",
      "Epoch 4/50\n",
      "110288/110288 [==============================] - 3s 32us/step - loss: 2.7134 - acc: 0.4398 - val_loss: nan - val_acc: 0.4614\n",
      "Epoch 5/50\n",
      "110288/110288 [==============================] - 3s 31us/step - loss: 2.3099 - acc: 0.4982 - val_loss: nan - val_acc: 0.5367\n",
      "Epoch 6/50\n",
      "110288/110288 [==============================] - 3s 31us/step - loss: 1.9667 - acc: 0.5583 - val_loss: nan - val_acc: 0.5827\n",
      "Epoch 7/50\n",
      "110288/110288 [==============================] - 3s 31us/step - loss: 1.7045 - acc: 0.6018 - val_loss: nan - val_acc: 0.6175\n",
      "Epoch 8/50\n",
      "110288/110288 [==============================] - 3s 31us/step - loss: 1.5125 - acc: 0.6372 - val_loss: nan - val_acc: 0.6546\n",
      "Epoch 9/50\n",
      "110288/110288 [==============================] - 4s 32us/step - loss: 1.3617 - acc: 0.6655 - val_loss: nan - val_acc: 0.6744\n",
      "Epoch 10/50\n",
      "110288/110288 [==============================] - 3s 32us/step - loss: 1.2430 - acc: 0.6825 - val_loss: nan - val_acc: 0.6936\n",
      "Epoch 11/50\n",
      "110288/110288 [==============================] - 3s 31us/step - loss: 1.1456 - acc: 0.7064 - val_loss: nan - val_acc: 0.7179\n",
      "Epoch 12/50\n",
      "110288/110288 [==============================] - 3s 32us/step - loss: 1.0574 - acc: 0.7270 - val_loss: nan - val_acc: 0.7402\n",
      "Epoch 13/50\n",
      "110288/110288 [==============================] - 3s 31us/step - loss: 0.9847 - acc: 0.7453 - val_loss: nan - val_acc: 0.7529\n",
      "Epoch 14/50\n",
      "110288/110288 [==============================] - 3s 32us/step - loss: 0.9287 - acc: 0.7572 - val_loss: nan - val_acc: 0.7631\n",
      "Epoch 15/50\n",
      "110288/110288 [==============================] - 3s 32us/step - loss: 0.8827 - acc: 0.7669 - val_loss: nan - val_acc: 0.7709\n",
      "Epoch 16/50\n",
      "110288/110288 [==============================] - 3s 32us/step - loss: 0.8437 - acc: 0.7747 - val_loss: nan - val_acc: 0.7790\n",
      "Epoch 17/50\n",
      "110288/110288 [==============================] - 3s 32us/step - loss: 0.8103 - acc: 0.7819 - val_loss: nan - val_acc: 0.7864\n",
      "Epoch 18/50\n",
      "110288/110288 [==============================] - 4s 32us/step - loss: 0.7812 - acc: 0.7885 - val_loss: nan - val_acc: 0.7915\n",
      "Epoch 19/50\n",
      "110288/110288 [==============================] - 3s 31us/step - loss: 0.7564 - acc: 0.7933 - val_loss: nan - val_acc: 0.7968\n",
      "Epoch 20/50\n",
      "110288/110288 [==============================] - 4s 32us/step - loss: 0.7345 - acc: 0.7979 - val_loss: nan - val_acc: 0.7998\n",
      "Epoch 21/50\n",
      "110288/110288 [==============================] - 3s 31us/step - loss: 0.7155 - acc: 0.8012 - val_loss: nan - val_acc: 0.8023\n",
      "Epoch 22/50\n",
      "110288/110288 [==============================] - 3s 32us/step - loss: 0.6985 - acc: 0.8046 - val_loss: nan - val_acc: 0.8063\n",
      "Epoch 23/50\n",
      "110288/110288 [==============================] - 3s 31us/step - loss: 0.6832 - acc: 0.8079 - val_loss: nan - val_acc: 0.8095\n",
      "Epoch 24/50\n",
      "110288/110288 [==============================] - 3s 32us/step - loss: 0.6691 - acc: 0.8112 - val_loss: nan - val_acc: 0.8125\n",
      "Epoch 25/50\n",
      "110288/110288 [==============================] - 3s 32us/step - loss: 0.6564 - acc: 0.8138 - val_loss: nan - val_acc: 0.8157\n",
      "Epoch 26/50\n",
      "110288/110288 [==============================] - 3s 32us/step - loss: 0.6437 - acc: 0.8171 - val_loss: nan - val_acc: 0.8181\n",
      "Epoch 27/50\n",
      "110288/110288 [==============================] - 4s 32us/step - loss: 0.6324 - acc: 0.8196 - val_loss: nan - val_acc: 0.8208\n",
      "Epoch 28/50\n",
      "110288/110288 [==============================] - 4s 33us/step - loss: 0.6213 - acc: 0.8223 - val_loss: nan - val_acc: 0.8242\n",
      "Epoch 29/50\n",
      "110288/110288 [==============================] - 4s 33us/step - loss: 0.6114 - acc: 0.8250 - val_loss: nan - val_acc: 0.8258\n",
      "Epoch 30/50\n",
      "110288/110288 [==============================] - 4s 33us/step - loss: 0.6020 - acc: 0.8274 - val_loss: nan - val_acc: 0.8284\n",
      "Epoch 31/50\n",
      "110288/110288 [==============================] - 4s 33us/step - loss: 0.5928 - acc: 0.8299 - val_loss: nan - val_acc: 0.8320\n",
      "Epoch 32/50\n",
      "110288/110288 [==============================] - 4s 32us/step - loss: 0.5844 - acc: 0.8325 - val_loss: nan - val_acc: 0.8338\n",
      "Epoch 33/50\n",
      "110288/110288 [==============================] - 4s 32us/step - loss: 0.5765 - acc: 0.8348 - val_loss: nan - val_acc: 0.8357\n",
      "Epoch 34/50\n",
      "110288/110288 [==============================] - 4s 33us/step - loss: 0.5691 - acc: 0.8370 - val_loss: nan - val_acc: 0.8373\n",
      "Epoch 35/50\n",
      "110288/110288 [==============================] - 4s 32us/step - loss: 0.5626 - acc: 0.8387 - val_loss: nan - val_acc: 0.8400\n",
      "Epoch 36/50\n",
      "110288/110288 [==============================] - 4s 32us/step - loss: 0.5561 - acc: 0.8403 - val_loss: nan - val_acc: 0.8409\n",
      "Epoch 37/50\n",
      "110288/110288 [==============================] - 4s 32us/step - loss: 0.5499 - acc: 0.8418 - val_loss: nan - val_acc: 0.8421\n",
      "Epoch 38/50\n",
      "110288/110288 [==============================] - 4s 32us/step - loss: 0.5440 - acc: 0.8433 - val_loss: nan - val_acc: 0.8425\n",
      "Epoch 39/50\n",
      "110288/110288 [==============================] - 4s 32us/step - loss: 0.5386 - acc: 0.8446 - val_loss: nan - val_acc: 0.8454\n",
      "Epoch 40/50\n",
      "110288/110288 [==============================] - 4s 32us/step - loss: 0.5339 - acc: 0.8458 - val_loss: nan - val_acc: 0.8462\n",
      "Epoch 41/50\n",
      "110288/110288 [==============================] - 3s 32us/step - loss: 0.5289 - acc: 0.8473 - val_loss: nan - val_acc: 0.8475\n",
      "Epoch 42/50\n",
      "110288/110288 [==============================] - 4s 32us/step - loss: 0.5249 - acc: 0.8482 - val_loss: nan - val_acc: 0.8487\n",
      "Epoch 43/50\n",
      "110288/110288 [==============================] - 4s 32us/step - loss: 0.5205 - acc: 0.8491 - val_loss: nan - val_acc: 0.8494\n",
      "Epoch 44/50\n",
      "110288/110288 [==============================] - 3s 32us/step - loss: 0.5164 - acc: 0.8501 - val_loss: nan - val_acc: 0.8499\n",
      "Epoch 45/50\n",
      "110288/110288 [==============================] - 4s 32us/step - loss: 0.5131 - acc: 0.8508 - val_loss: nan - val_acc: 0.8500\n",
      "Epoch 46/50\n",
      "110288/110288 [==============================] - 4s 32us/step - loss: 0.5086 - acc: 0.8521 - val_loss: nan - val_acc: 0.8521\n",
      "Epoch 47/50\n",
      "110288/110288 [==============================] - 4s 32us/step - loss: 0.5053 - acc: 0.8529 - val_loss: nan - val_acc: 0.8532\n",
      "Epoch 48/50\n",
      "110288/110288 [==============================] - 4s 32us/step - loss: 0.5016 - acc: 0.8538 - val_loss: nan - val_acc: 0.8540\n",
      "Epoch 49/50\n",
      "110288/110288 [==============================] - 4s 32us/step - loss: 0.4987 - acc: 0.8546 - val_loss: nan - val_acc: 0.8553\n",
      "Epoch 50/50\n",
      "110288/110288 [==============================] - 4s 32us/step - loss: 0.4954 - acc: 0.8554 - val_loss: nan - val_acc: 0.8556\n",
      "new jersey est parfois calme en l'automne et il il neigeux neigeux avril avril <PAD> <PAD> <PAD> <PAD> <PAD> <PAD> <PAD>\n"
     ]
    }
   ],
   "source": [
    "def embed_model(input_shape, output_sequence_length, english_vocab_size, french_vocab_size):\n",
    "    \"\"\"\n",
    "    Build and train a RNN model using word embedding on x and y\n",
    "    :param input_shape: Tuple of input shape\n",
    "    :param output_sequence_length: Length of output sequence\n",
    "    :param english_vocab_size: Number of unique English words in the dataset\n",
    "    :param french_vocab_size: Number of unique French words in the dataset\n",
    "    :return: Keras model built, but not trained\n",
    "    \"\"\"\n",
    "    learning_rate = 0.001\n",
    "    \n",
    "    input_seq = Input(shape=input_shape[1:])\n",
    "    emb = Embedding(input_dim=english_vocab_size ,output_dim=output_sequence_length)(input_seq)\n",
    "    rnn = GRU(output_sequence_length, return_sequences=True)(emb)\n",
    "    logits = TimeDistributed(Dense(french_vocab_size))(rnn)\n",
    "    \n",
    "    model = Model(input_seq, Activation('softmax')(logits))\n",
    "    model.compile(loss=sparse_categorical_crossentropy,\n",
    "                  optimizer=Adam(learning_rate),\n",
    "                  metrics=['accuracy'])\n",
    "    return model\n",
    "tests.test_embed_model(embed_model)\n",
    "\n",
    "\n",
    "# TODO: Reshape the input\n",
    "tmp_x = pad(preproc_english_sentences, max_french_sequence_length)\n",
    "tmp_x = tmp_x.reshape((-1, preproc_french_sentences.shape[-2]))\n",
    "\n",
    "# TODO: Train the neural network\n",
    "embed_model = embed_model(\n",
    "    tmp_x.shape,\n",
    "    max_french_sequence_length,\n",
    "    english_vocab_size,\n",
    "    french_vocab_size)\n",
    "\n",
    "\n",
    "embed_model.fit(tmp_x, preproc_french_sentences, batch_size=1024, epochs=50, validation_split=0.2)\n",
    "\n",
    "# Print prediction(s)\n",
    "print(logits_to_text(embed_model.predict(tmp_x[:1])[0], french_tokenizer))\n"
   ]
  },
  {
   "cell_type": "markdown",
   "metadata": {},
   "source": [
    "### Model 3: Bidirectional RNNs (IMPLEMENTATION)\n",
    "![RNN](images/bidirectional.png)\n",
    "One restriction of a RNN is that it can't see the future input, only the past.  This is where bidirectional recurrent neural networks come in.  They are able to see the future data."
   ]
  },
  {
   "cell_type": "code",
   "execution_count": 55,
   "metadata": {
    "scrolled": true
   },
   "outputs": [
    {
     "name": "stdout",
     "output_type": "stream",
     "text": [
      "Train on 110288 samples, validate on 27573 samples\n",
      "Epoch 1/25\n",
      "110288/110288 [==============================] - 6s 50us/step - loss: 1.2632 - acc: 0.6492 - val_loss: nan - val_acc: 0.6515\n",
      "Epoch 2/25\n",
      "110288/110288 [==============================] - 5s 43us/step - loss: 1.2259 - acc: 0.6539 - val_loss: nan - val_acc: 0.6550\n",
      "Epoch 3/25\n",
      "110288/110288 [==============================] - 5s 44us/step - loss: 1.1954 - acc: 0.6572 - val_loss: nan - val_acc: 0.6588\n",
      "Epoch 4/25\n",
      "110288/110288 [==============================] - 5s 44us/step - loss: 1.1711 - acc: 0.6600 - val_loss: nan - val_acc: 0.6605\n",
      "Epoch 5/25\n",
      "110288/110288 [==============================] - 5s 43us/step - loss: 1.1520 - acc: 0.6627 - val_loss: nan - val_acc: 0.6625\n",
      "Epoch 6/25\n",
      "110288/110288 [==============================] - 5s 43us/step - loss: 1.1386 - acc: 0.6643 - val_loss: nan - val_acc: 0.6663\n",
      "Epoch 7/25\n",
      "110288/110288 [==============================] - 5s 44us/step - loss: 1.1264 - acc: 0.6662 - val_loss: nan - val_acc: 0.6656\n",
      "Epoch 8/25\n",
      "110288/110288 [==============================] - 5s 43us/step - loss: 1.1177 - acc: 0.6671 - val_loss: nan - val_acc: 0.6673\n",
      "Epoch 9/25\n",
      "110288/110288 [==============================] - 5s 44us/step - loss: 1.1089 - acc: 0.6684 - val_loss: nan - val_acc: 0.6717\n",
      "Epoch 10/25\n",
      "110288/110288 [==============================] - 5s 44us/step - loss: 1.1020 - acc: 0.6701 - val_loss: nan - val_acc: 0.6711\n",
      "Epoch 11/25\n",
      "110288/110288 [==============================] - 5s 43us/step - loss: 1.0938 - acc: 0.6720 - val_loss: nan - val_acc: 0.6738\n",
      "Epoch 12/25\n",
      "110288/110288 [==============================] - 5s 43us/step - loss: 1.0872 - acc: 0.6734 - val_loss: nan - val_acc: 0.6738\n",
      "Epoch 13/25\n",
      "110288/110288 [==============================] - 5s 43us/step - loss: 1.0803 - acc: 0.6754 - val_loss: nan - val_acc: 0.6766\n",
      "Epoch 14/25\n",
      "110288/110288 [==============================] - 5s 44us/step - loss: 1.0730 - acc: 0.6774 - val_loss: nan - val_acc: 0.6781\n",
      "Epoch 15/25\n",
      "110288/110288 [==============================] - 5s 44us/step - loss: 1.0662 - acc: 0.6793 - val_loss: nan - val_acc: 0.6786\n",
      "Epoch 16/25\n",
      "110288/110288 [==============================] - 5s 43us/step - loss: 1.0684 - acc: 0.6789 - val_loss: nan - val_acc: 0.6840\n",
      "Epoch 17/25\n",
      "110288/110288 [==============================] - 5s 44us/step - loss: 1.0547 - acc: 0.6831 - val_loss: nan - val_acc: 0.6844\n",
      "Epoch 18/25\n",
      "110288/110288 [==============================] - 5s 44us/step - loss: 1.0494 - acc: 0.6848 - val_loss: nan - val_acc: 0.6815\n",
      "Epoch 19/25\n",
      "110288/110288 [==============================] - 5s 44us/step - loss: 1.0436 - acc: 0.6865 - val_loss: nan - val_acc: 0.6873\n",
      "Epoch 20/25\n",
      "110288/110288 [==============================] - 5s 44us/step - loss: 1.0398 - acc: 0.6877 - val_loss: nan - val_acc: 0.6899\n",
      "Epoch 21/25\n",
      "110288/110288 [==============================] - 5s 44us/step - loss: 1.0334 - acc: 0.6898 - val_loss: nan - val_acc: 0.6909\n",
      "Epoch 22/25\n",
      "110288/110288 [==============================] - 5s 44us/step - loss: 1.0292 - acc: 0.6905 - val_loss: nan - val_acc: 0.6881\n",
      "Epoch 23/25\n",
      "110288/110288 [==============================] - 5s 44us/step - loss: 1.0255 - acc: 0.6909 - val_loss: nan - val_acc: 0.6929\n",
      "Epoch 24/25\n",
      "110288/110288 [==============================] - 5s 44us/step - loss: 1.0231 - acc: 0.6917 - val_loss: nan - val_acc: 0.6949\n",
      "Epoch 25/25\n",
      "110288/110288 [==============================] - 5s 44us/step - loss: 1.0158 - acc: 0.6938 - val_loss: nan - val_acc: 0.6916\n",
      "et et et envisagent aime envisagent aime jaune jaune jaune jaune jaune jaune magnifique magnifique mes mes mes prévoient prévoient prévoient\n"
     ]
    }
   ],
   "source": [
    "def bd_model(input_shape, output_sequence_length, english_vocab_size, french_vocab_size):\n",
    "    \"\"\"\n",
    "    Build and train a bidirectional RNN model on x and y\n",
    "    :param input_shape: Tuple of input shape\n",
    "    :param output_sequence_length: Length of output sequence\n",
    "    :param english_vocab_size: Number of unique English words in the dataset\n",
    "    :param french_vocab_size: Number of unique French words in the dataset\n",
    "    :return: Keras model built, but not trained\n",
    "    \"\"\"\n",
    "    learning_rate = 0.01\n",
    "    input_seq = Input(shape=input_shape[1:])\n",
    "    \n",
    "    rnn = Bidirectional(GRU(output_sequence_length, return_sequences=True))(input_seq)\n",
    "    logits = TimeDistributed(Dense(french_vocab_size))(rnn)\n",
    "   \n",
    "    model = Model(input_seq, Activation('softmax')(logits))\n",
    "    model.compile(loss=sparse_categorical_crossentropy,\n",
    "                  optimizer=Adam(learning_rate),\n",
    "                  metrics=['accuracy'])\n",
    "    return model\n",
    "tests.test_bd_model(bd_model)\n",
    "\n",
    "\n",
    "# TODO: Reshape the input\n",
    "tmp_x = pad(preproc_english_sentences, max_french_sequence_length)\n",
    "tmp_x = tmp_x.reshape((-1, preproc_french_sentences.shape[-2], 1))\n",
    "\n",
    "# TODO: Train the neural network\n",
    "bd_model = bd_model(\n",
    "    tmp_x.shape,\n",
    "    max_french_sequence_length,\n",
    "    english_vocab_size,\n",
    "    french_vocab_size)\n",
    "\n",
    "\n",
    "embed_model.fit(tmp_x, preproc_french_sentences, batch_size=1024, epochs=25, validation_split=0.2)\n",
    "\n",
    "# Print prediction(s)\n",
    "print(logits_to_text(bd_model.predict(tmp_x[:1])[0], french_tokenizer))"
   ]
  },
  {
   "cell_type": "markdown",
   "metadata": {},
   "source": [
    "### Model 4: Encoder-Decoder (OPTIONAL)\n",
    "Time to look at encoder-decoder models.  This model is made up of an encoder and decoder. The encoder creates a matrix representation of the sentence.  The decoder takes this matrix as input and predicts the translation as output.\n",
    "\n",
    "Create an encoder-decoder model in the cell below."
   ]
  },
  {
   "cell_type": "code",
   "execution_count": 80,
   "metadata": {},
   "outputs": [],
   "source": [
    "from keras.layers import RepeatVector"
   ]
  },
  {
   "cell_type": "code",
   "execution_count": 81,
   "metadata": {},
   "outputs": [
    {
     "data": {
      "text/plain": [
       "keras.layers.core.RepeatVector"
      ]
     },
     "execution_count": 81,
     "metadata": {},
     "output_type": "execute_result"
    }
   ],
   "source": [
    "RepeatVector()"
   ]
  },
  {
   "cell_type": "code",
   "execution_count": 95,
   "metadata": {},
   "outputs": [
    {
     "name": "stdout",
     "output_type": "stream",
     "text": [
      "Train on 110288 samples, validate on 27573 samples\n",
      "Epoch 1/100\n",
      "110288/110288 [==============================] - 10s 93us/step - loss: 2.7356 - acc: 0.4466 - val_loss: nan - val_acc: 0.5254\n",
      "Epoch 2/100\n",
      "110288/110288 [==============================] - 8s 70us/step - loss: 1.7675 - acc: 0.5532 - val_loss: nan - val_acc: 0.5753\n",
      "Epoch 3/100\n",
      "110288/110288 [==============================] - 8s 69us/step - loss: 1.5588 - acc: 0.5846 - val_loss: nan - val_acc: 0.6045\n",
      "Epoch 4/100\n",
      "110288/110288 [==============================] - 8s 70us/step - loss: 1.4613 - acc: 0.6031 - val_loss: nan - val_acc: 0.6163\n",
      "Epoch 5/100\n",
      "110288/110288 [==============================] - 8s 70us/step - loss: 1.3599 - acc: 0.6232 - val_loss: nan - val_acc: 0.6298\n",
      "Epoch 6/100\n",
      "110288/110288 [==============================] - 8s 70us/step - loss: 1.3395 - acc: 0.6256 - val_loss: nan - val_acc: 0.6365\n",
      "Epoch 7/100\n",
      "110288/110288 [==============================] - 8s 69us/step - loss: 1.3911 - acc: 0.6130 - val_loss: nan - val_acc: 0.6250\n",
      "Epoch 8/100\n",
      "110288/110288 [==============================] - 8s 69us/step - loss: 1.2804 - acc: 0.6358 - val_loss: nan - val_acc: 0.6412\n",
      "Epoch 9/100\n",
      "110288/110288 [==============================] - 8s 69us/step - loss: 1.2440 - acc: 0.6432 - val_loss: nan - val_acc: 0.6457\n",
      "Epoch 10/100\n",
      "110288/110288 [==============================] - 8s 70us/step - loss: 1.2845 - acc: 0.6352 - val_loss: nan - val_acc: 0.6429\n",
      "Epoch 11/100\n",
      "110288/110288 [==============================] - 8s 70us/step - loss: 1.2273 - acc: 0.6481 - val_loss: nan - val_acc: 0.6575\n",
      "Epoch 12/100\n",
      "110288/110288 [==============================] - 8s 70us/step - loss: 1.2036 - acc: 0.6526 - val_loss: nan - val_acc: 0.6448\n",
      "Epoch 13/100\n",
      "110288/110288 [==============================] - 8s 70us/step - loss: 1.2611 - acc: 0.6410 - val_loss: nan - val_acc: 0.6531 0s - loss: 1.272\n",
      "Epoch 14/100\n",
      "110288/110288 [==============================] - 8s 70us/step - loss: 1.1876 - acc: 0.6551 - val_loss: nan - val_acc: 0.6604\n",
      "Epoch 15/100\n",
      "110288/110288 [==============================] - 8s 70us/step - loss: 1.1924 - acc: 0.6541 - val_loss: nan - val_acc: 0.6715\n",
      "Epoch 16/100\n",
      "110288/110288 [==============================] - 8s 70us/step - loss: 1.1680 - acc: 0.6587 - val_loss: nan - val_acc: 0.6666\n",
      "Epoch 17/100\n",
      "110288/110288 [==============================] - 8s 71us/step - loss: 1.1845 - acc: 0.6576 - val_loss: nan - val_acc: 0.6621\n",
      "Epoch 18/100\n",
      "110288/110288 [==============================] - 8s 70us/step - loss: 1.1996 - acc: 0.6528 - val_loss: nan - val_acc: 0.6654\n",
      "Epoch 19/100\n",
      "110288/110288 [==============================] - 8s 70us/step - loss: 1.1596 - acc: 0.6634 - val_loss: nan - val_acc: 0.6520\n",
      "Epoch 20/100\n",
      "110288/110288 [==============================] - 8s 70us/step - loss: 1.1418 - acc: 0.6640 - val_loss: nan - val_acc: 0.6575\n",
      "Epoch 21/100\n",
      "110288/110288 [==============================] - 8s 70us/step - loss: 1.1444 - acc: 0.6653 - val_loss: nan - val_acc: 0.6342\n",
      "Epoch 22/100\n",
      "110288/110288 [==============================] - 8s 70us/step - loss: 1.1006 - acc: 0.6764 - val_loss: nan - val_acc: 0.6831\n",
      "Epoch 23/100\n",
      "110288/110288 [==============================] - 8s 70us/step - loss: 1.1268 - acc: 0.6725 - val_loss: nan - val_acc: 0.6456\n",
      "Epoch 24/100\n",
      "110288/110288 [==============================] - 8s 70us/step - loss: 1.1301 - acc: 0.6678 - val_loss: nan - val_acc: 0.6860\n",
      "Epoch 25/100\n",
      "110288/110288 [==============================] - 8s 70us/step - loss: 1.1900 - acc: 0.6517 - val_loss: nan - val_acc: 0.6629\n",
      "Epoch 26/100\n",
      "110288/110288 [==============================] - 8s 70us/step - loss: 1.1199 - acc: 0.6661 - val_loss: nan - val_acc: 0.6654\n",
      "Epoch 27/100\n",
      "110288/110288 [==============================] - 8s 70us/step - loss: 1.1297 - acc: 0.6663 - val_loss: nan - val_acc: 0.6624\n",
      "Epoch 28/100\n",
      "110288/110288 [==============================] - 8s 70us/step - loss: 1.1427 - acc: 0.6643 - val_loss: nan - val_acc: 0.6805\n",
      "Epoch 29/100\n",
      "110288/110288 [==============================] - 8s 70us/step - loss: 1.1501 - acc: 0.6707 - val_loss: nan - val_acc: 0.6547\n",
      "Epoch 30/100\n",
      "110288/110288 [==============================] - 8s 70us/step - loss: 1.1353 - acc: 0.6610 - val_loss: nan - val_acc: 0.6666\n",
      "Epoch 31/100\n",
      "110288/110288 [==============================] - 8s 71us/step - loss: 1.1019 - acc: 0.6732 - val_loss: nan - val_acc: 0.6867\n",
      "Epoch 32/100\n",
      "110288/110288 [==============================] - 8s 70us/step - loss: 1.0893 - acc: 0.6786 - val_loss: nan - val_acc: 0.6957\n",
      "Epoch 33/100\n",
      "110288/110288 [==============================] - 8s 71us/step - loss: 1.0963 - acc: 0.6776 - val_loss: nan - val_acc: 0.6459\n",
      "Epoch 34/100\n",
      "110288/110288 [==============================] - 8s 70us/step - loss: 1.1113 - acc: 0.6722 - val_loss: nan - val_acc: 0.6744\n",
      "Epoch 35/100\n",
      "110288/110288 [==============================] - 8s 70us/step - loss: 1.0505 - acc: 0.6904 - val_loss: nan - val_acc: 0.6993\n",
      "Epoch 36/100\n",
      "110288/110288 [==============================] - 8s 70us/step - loss: 1.0692 - acc: 0.6855 - val_loss: nan - val_acc: 0.6856\n",
      "Epoch 37/100\n",
      "110288/110288 [==============================] - 8s 69us/step - loss: 1.1036 - acc: 0.6758 - val_loss: nan - val_acc: 0.6638\n",
      "Epoch 38/100\n",
      "110288/110288 [==============================] - 8s 70us/step - loss: 1.0686 - acc: 0.6827 - val_loss: nan - val_acc: 0.6945\n",
      "Epoch 39/100\n",
      "110288/110288 [==============================] - 8s 70us/step - loss: 1.0576 - acc: 0.6845 - val_loss: nan - val_acc: 0.6913\n",
      "Epoch 40/100\n",
      "110288/110288 [==============================] - 8s 69us/step - loss: 1.1307 - acc: 0.6675 - val_loss: nan - val_acc: 0.6646\n",
      "Epoch 41/100\n",
      "110288/110288 [==============================] - 8s 70us/step - loss: 1.1217 - acc: 0.6639 - val_loss: nan - val_acc: 0.6689\n",
      "Epoch 42/100\n",
      "110288/110288 [==============================] - 8s 70us/step - loss: 1.0870 - acc: 0.6739 - val_loss: nan - val_acc: 0.6851\n",
      "Epoch 43/100\n",
      "110288/110288 [==============================] - 8s 70us/step - loss: 1.0894 - acc: 0.6750 - val_loss: nan - val_acc: 0.6888\n",
      "Epoch 44/100\n",
      "110288/110288 [==============================] - 8s 70us/step - loss: 1.0240 - acc: 0.6926 - val_loss: nan - val_acc: 0.6969\n",
      "Epoch 45/100\n",
      "110288/110288 [==============================] - 8s 70us/step - loss: 1.0321 - acc: 0.6913 - val_loss: nan - val_acc: 0.6463\n",
      "Epoch 46/100\n",
      "110288/110288 [==============================] - 8s 69us/step - loss: 1.0604 - acc: 0.6867 - val_loss: nan - val_acc: 0.7005\n",
      "Epoch 47/100\n",
      "110288/110288 [==============================] - 8s 69us/step - loss: 1.0975 - acc: 0.6760 - val_loss: nan - val_acc: 0.6889\n",
      "Epoch 48/100\n",
      "110288/110288 [==============================] - 8s 70us/step - loss: 1.0126 - acc: 0.6965 - val_loss: nan - val_acc: 0.6254\n",
      "Epoch 49/100\n",
      "110288/110288 [==============================] - 8s 69us/step - loss: 1.2613 - acc: 0.6525 - val_loss: nan - val_acc: 0.6762\n",
      "Epoch 50/100\n",
      "110288/110288 [==============================] - 8s 70us/step - loss: 1.0529 - acc: 0.6836 - val_loss: nan - val_acc: 0.6970\n",
      "Epoch 51/100\n",
      "110288/110288 [==============================] - 8s 70us/step - loss: 1.0408 - acc: 0.6857 - val_loss: nan - val_acc: 0.7013\n",
      "Epoch 52/100\n",
      "110288/110288 [==============================] - 8s 70us/step - loss: 0.9667 - acc: 0.7037 - val_loss: nan - val_acc: 0.7060\n",
      "Epoch 53/100\n",
      "110288/110288 [==============================] - 8s 70us/step - loss: 1.0249 - acc: 0.6894 - val_loss: nan - val_acc: 0.6825\n",
      "Epoch 54/100\n",
      "110288/110288 [==============================] - 8s 70us/step - loss: 0.9829 - acc: 0.6984 - val_loss: nan - val_acc: 0.7033\n",
      "Epoch 55/100\n",
      "110288/110288 [==============================] - 8s 70us/step - loss: 0.9499 - acc: 0.7057 - val_loss: nan - val_acc: 0.7034\n",
      "Epoch 56/100\n",
      "110288/110288 [==============================] - 8s 70us/step - loss: 1.0219 - acc: 0.6890 - val_loss: nan - val_acc: 0.6632\n",
      "Epoch 57/100\n",
      "110288/110288 [==============================] - 8s 70us/step - loss: 0.9843 - acc: 0.6957 - val_loss: nan - val_acc: 0.7047\n",
      "Epoch 58/100\n",
      "110288/110288 [==============================] - 8s 70us/step - loss: 0.9385 - acc: 0.7073 - val_loss: nan - val_acc: 0.7038\n",
      "Epoch 59/100\n",
      "110288/110288 [==============================] - 8s 70us/step - loss: 0.9391 - acc: 0.7058 - val_loss: nan - val_acc: 0.7053\n"
     ]
    },
    {
     "name": "stdout",
     "output_type": "stream",
     "text": [
      "Epoch 60/100\n",
      "110288/110288 [==============================] - 8s 68us/step - loss: 0.9730 - acc: 0.6988 - val_loss: nan - val_acc: 0.7096\n",
      "Epoch 61/100\n",
      "110288/110288 [==============================] - 8s 69us/step - loss: 0.9229 - acc: 0.7102 - val_loss: nan - val_acc: 0.7102\n",
      "Epoch 62/100\n",
      "110288/110288 [==============================] - 8s 68us/step - loss: 0.9861 - acc: 0.6955 - val_loss: nan - val_acc: 0.7072\n",
      "Epoch 63/100\n",
      "110288/110288 [==============================] - 8s 69us/step - loss: 0.9698 - acc: 0.6983 - val_loss: nan - val_acc: 0.6399\n",
      "Epoch 64/100\n",
      "110288/110288 [==============================] - 8s 70us/step - loss: 0.9828 - acc: 0.6941 - val_loss: nan - val_acc: 0.7041\n",
      "Epoch 65/100\n",
      "110288/110288 [==============================] - 8s 68us/step - loss: 0.9629 - acc: 0.6973 - val_loss: nan - val_acc: 0.7085\n",
      "Epoch 66/100\n",
      "110288/110288 [==============================] - 8s 70us/step - loss: 0.9031 - acc: 0.7130 - val_loss: nan - val_acc: 0.7172\n",
      "Epoch 67/100\n",
      "110288/110288 [==============================] - 8s 69us/step - loss: 0.8936 - acc: 0.7150 - val_loss: nan - val_acc: 0.7132\n",
      "Epoch 68/100\n",
      "110288/110288 [==============================] - 8s 69us/step - loss: 1.1041 - acc: 0.6688 - val_loss: nan - val_acc: 0.6774\n",
      "Epoch 69/100\n",
      "110288/110288 [==============================] - 8s 69us/step - loss: 1.0076 - acc: 0.6768 - val_loss: nan - val_acc: 0.6797\n",
      "Epoch 70/100\n",
      "110288/110288 [==============================] - 8s 69us/step - loss: 0.9858 - acc: 0.6830 - val_loss: nan - val_acc: 0.6814\n",
      "Epoch 71/100\n",
      "110288/110288 [==============================] - 8s 69us/step - loss: 0.9693 - acc: 0.6899 - val_loss: nan - val_acc: 0.7060\n",
      "Epoch 72/100\n",
      "110288/110288 [==============================] - 8s 70us/step - loss: 0.9433 - acc: 0.6993 - val_loss: nan - val_acc: 0.7152\n",
      "Epoch 73/100\n",
      "110288/110288 [==============================] - 8s 69us/step - loss: 0.9609 - acc: 0.6937 - val_loss: nan - val_acc: 0.7222\n",
      "Epoch 74/100\n",
      "110288/110288 [==============================] - 8s 69us/step - loss: 0.9617 - acc: 0.7000 - val_loss: nan - val_acc: 0.6658\n",
      "Epoch 75/100\n",
      "110288/110288 [==============================] - 8s 69us/step - loss: 0.9828 - acc: 0.6793 - val_loss: nan - val_acc: 0.6848\n",
      "Epoch 76/100\n",
      "110288/110288 [==============================] - 7s 68us/step - loss: 0.9446 - acc: 0.6902 - val_loss: nan - val_acc: 0.6973\n",
      "Epoch 77/100\n",
      "110288/110288 [==============================] - 8s 70us/step - loss: 0.9259 - acc: 0.7004 - val_loss: nan - val_acc: 0.6987\n",
      "Epoch 78/100\n",
      "110288/110288 [==============================] - 8s 69us/step - loss: 0.8915 - acc: 0.7128 - val_loss: nan - val_acc: 0.7138\n",
      "Epoch 79/100\n",
      "110288/110288 [==============================] - 8s 69us/step - loss: 0.9353 - acc: 0.6997 - val_loss: nan - val_acc: 0.7204\n",
      "Epoch 80/100\n",
      "110288/110288 [==============================] - 8s 71us/step - loss: 0.8633 - acc: 0.7186 - val_loss: nan - val_acc: 0.7064\n",
      "Epoch 81/100\n",
      "110288/110288 [==============================] - 8s 69us/step - loss: 0.8435 - acc: 0.7226 - val_loss: nan - val_acc: 0.7144\n",
      "Epoch 82/100\n",
      "110288/110288 [==============================] - 8s 70us/step - loss: 0.8408 - acc: 0.7229 - val_loss: nan - val_acc: 0.7312\n",
      "Epoch 83/100\n",
      "110288/110288 [==============================] - 8s 71us/step - loss: 0.8851 - acc: 0.7134 - val_loss: nan - val_acc: 0.7279\n",
      "Epoch 84/100\n",
      "110288/110288 [==============================] - 8s 71us/step - loss: 0.8311 - acc: 0.7255 - val_loss: nan - val_acc: 0.7165\n",
      "Epoch 85/100\n",
      "110288/110288 [==============================] - 8s 71us/step - loss: 0.8255 - acc: 0.7262 - val_loss: nan - val_acc: 0.7322\n",
      "Epoch 86/100\n",
      "110288/110288 [==============================] - 8s 71us/step - loss: 0.8299 - acc: 0.7250 - val_loss: nan - val_acc: 0.7308\n",
      "Epoch 87/100\n",
      "110288/110288 [==============================] - 8s 70us/step - loss: 0.8727 - acc: 0.7150 - val_loss: nan - val_acc: 0.7044\n",
      "Epoch 88/100\n",
      "110288/110288 [==============================] - 8s 71us/step - loss: 0.8474 - acc: 0.7229 - val_loss: nan - val_acc: 0.7376\n",
      "Epoch 89/100\n",
      "110288/110288 [==============================] - 8s 71us/step - loss: 0.8636 - acc: 0.7160 - val_loss: nan - val_acc: 0.7070\n",
      "Epoch 90/100\n",
      "110288/110288 [==============================] - 8s 71us/step - loss: 0.8204 - acc: 0.7274 - val_loss: nan - val_acc: 0.7228: 0 - ETA: 0s - loss: 0.8195 - acc\n",
      "Epoch 91/100\n",
      "110288/110288 [==============================] - 8s 71us/step - loss: 0.8119 - acc: 0.7288 - val_loss: nan - val_acc: 0.7289\n",
      "Epoch 92/100\n",
      "110288/110288 [==============================] - 8s 71us/step - loss: 0.8006 - acc: 0.7315 - val_loss: nan - val_acc: 0.7226\n",
      "Epoch 93/100\n",
      "110288/110288 [==============================] - 8s 69us/step - loss: 0.8062 - acc: 0.7299 - val_loss: nan - val_acc: 0.7342\n",
      "Epoch 94/100\n",
      "110288/110288 [==============================] - 8s 69us/step - loss: 0.9673 - acc: 0.6899 - val_loss: nan - val_acc: 0.7049\n",
      "Epoch 95/100\n",
      "110288/110288 [==============================] - 8s 68us/step - loss: 0.9150 - acc: 0.6975 - val_loss: nan - val_acc: 0.6550\n",
      "Epoch 96/100\n",
      "110288/110288 [==============================] - 8s 69us/step - loss: 0.9046 - acc: 0.7008 - val_loss: nan - val_acc: 0.7245\n",
      "Epoch 97/100\n",
      "110288/110288 [==============================] - 8s 69us/step - loss: 0.9003 - acc: 0.7032 - val_loss: nan - val_acc: 0.7237\n",
      "Epoch 98/100\n",
      "110288/110288 [==============================] - 8s 70us/step - loss: 0.8613 - acc: 0.7180 - val_loss: nan - val_acc: 0.7365\n",
      "Epoch 99/100\n",
      "110288/110288 [==============================] - 8s 69us/step - loss: 0.8906 - acc: 0.7080 - val_loss: nan - val_acc: 0.7256\n",
      "Epoch 100/100\n",
      "110288/110288 [==============================] - 8s 71us/step - loss: 0.8584 - acc: 0.7194 - val_loss: nan - val_acc: 0.7402\n",
      "new jersey est parfois froid en l' et il est neigeux en avril <PAD> <PAD> <PAD> <PAD> <PAD> <PAD> <PAD> <PAD>\n"
     ]
    }
   ],
   "source": [
    "def encdec_model(input_shape, output_sequence_length, english_vocab_size, french_vocab_size):\n",
    "    \"\"\"\n",
    "    Build and train an encoder-decoder model on x and y\n",
    "    :param input_shape: Tuple of input shape\n",
    "    :param output_sequence_length: Length of output sequence\n",
    "    :param english_vocab_size: Number of unique English words in the dataset\n",
    "    :param french_vocab_size: Number of unique French words in the dataset\n",
    "    :return: Keras model built, but not trained\n",
    "    \"\"\"\n",
    "    # OPTIONAL: Implement\n",
    "    latent_dim = 256\n",
    "    learning_rate=0.01\n",
    "    inputs = Input(shape=input_shape[1:])\n",
    "    encoded = LSTM(output_sequence_length)(inputs)\n",
    "    encoder_out = Dense(latent_dim)(encoded)\n",
    "    \n",
    "    \n",
    "    decoded = RepeatVector(output_sequence_length)(encoder_out)\n",
    "    decoded = LSTM(latent_dim, return_sequences=True)(decoded)\n",
    "    logits = TimeDistributed(Dense(french_vocab_size, activation=('softmax')))(decoded)\n",
    "    \n",
    "\n",
    "    autoencoder = Model(inputs=inputs, outputs=logits)\n",
    "    autoencoder.compile(loss=sparse_categorical_crossentropy,\n",
    "                  optimizer=Adam(learning_rate),\n",
    "                  metrics=['accuracy'])\n",
    "    return autoencoder\n",
    "tests.test_encdec_model(encdec_model)\n",
    "\n",
    "# TODO: Reshape the input\n",
    "tmp_x = pad(preproc_english_sentences, max_french_sequence_length)\n",
    "tmp_x = tmp_x.reshape((-1, preproc_french_sentences.shape[-2], 1))\n",
    "\n",
    "# OPTIONAL: Train and Print prediction(s)\n",
    "tmp_x = pad(preproc_english_sentences, max_french_sequence_length)\n",
    "tmp_x = tmp_x.reshape((-1, preproc_french_sentences.shape[-2], 1))\n",
    "\n",
    "encdec_model = encdec_model(\n",
    "    tmp_x.shape,\n",
    "    max_french_sequence_length,\n",
    "    english_vocab_size,\n",
    "    french_vocab_size)\n",
    "\n",
    "\n",
    "encdec_model.fit(tmp_x, preproc_french_sentences, batch_size=1024, epochs=100, validation_split=0.2)\n",
    "\n",
    "# Print prediction(s)\n",
    "print(logits_to_text(encdec_model.predict(tmp_x[:1])[0], french_tokenizer))"
   ]
  },
  {
   "cell_type": "markdown",
   "metadata": {},
   "source": [
    "### Model 5: Custom (IMPLEMENTATION)\n",
    "Use everything you learned from the previous models to create a model that incorporates embedding and a bidirectional rnn into one model."
   ]
  },
  {
   "cell_type": "code",
   "execution_count": 18,
   "metadata": {},
   "outputs": [],
   "source": [
    "from keras.layers import Dropout\n",
    "from keras.layers import CuDNNLSTM"
   ]
  },
  {
   "cell_type": "code",
   "execution_count": 38,
   "metadata": {},
   "outputs": [],
   "source": [
    "tmp_x = pad(preproc_english_sentences, max_french_sequence_length)\n",
    "tmp_x = tmp_x.reshape((-1, preproc_french_sentences.shape[-2], 1))"
   ]
  },
  {
   "cell_type": "code",
   "execution_count": 22,
   "metadata": {},
   "outputs": [],
   "source": [
    "model_final = final_model = model_final(\n",
    "    tmp_x.shape,\n",
    "    max_french_sequence_length,\n",
    "    english_vocab_size,\n",
    "    french_vocab_size)\n"
   ]
  },
  {
   "cell_type": "code",
   "execution_count": 27,
   "metadata": {},
   "outputs": [
    {
     "data": {
      "text/plain": [
       "344"
      ]
     },
     "execution_count": 27,
     "metadata": {},
     "output_type": "execute_result"
    }
   ],
   "source": [
    "#model_final.output_shape\n",
    "french_vocab_size"
   ]
  },
  {
   "cell_type": "code",
   "execution_count": 28,
   "metadata": {},
   "outputs": [
    {
     "data": {
      "text/plain": [
       "21"
      ]
     },
     "execution_count": 28,
     "metadata": {},
     "output_type": "execute_result"
    }
   ],
   "source": [
    "max_french_sequence_length"
   ]
  },
  {
   "cell_type": "code",
   "execution_count": 39,
   "metadata": {},
   "outputs": [
    {
     "data": {
      "text/plain": [
       "(137861, 21, 1)"
      ]
     },
     "execution_count": 39,
     "metadata": {},
     "output_type": "execute_result"
    }
   ],
   "source": [
    "tmp_x.shape"
   ]
  },
  {
   "cell_type": "code",
   "execution_count": 41,
   "metadata": {},
   "outputs": [],
   "source": [
    "example = tmp_x[0]"
   ]
  },
  {
   "cell_type": "code",
   "execution_count": 43,
   "metadata": {},
   "outputs": [
    {
     "data": {
      "text/plain": [
       "(21, 1)"
      ]
     },
     "execution_count": 43,
     "metadata": {},
     "output_type": "execute_result"
    }
   ],
   "source": [
    "example.shape"
   ]
  },
  {
   "cell_type": "code",
   "execution_count": 48,
   "metadata": {},
   "outputs": [],
   "source": [
    "output_sequence_length = max_french_sequence_length\n",
    "english_vocab_size = english_vocab_size\n",
    "french_vocab_size = french_vocab_size"
   ]
  },
  {
   "cell_type": "code",
   "execution_count": 51,
   "metadata": {},
   "outputs": [
    {
     "name": "stdout",
     "output_type": "stream",
     "text": [
      "out 21\n",
      "eng 199\n",
      "french 344\n"
     ]
    }
   ],
   "source": [
    "print(\"out\", output_sequence_length)\n",
    "print(\"eng\", english_vocab_size)\n",
    "print(\"french\", french_vocab_size)"
   ]
  },
  {
   "cell_type": "code",
   "execution_count": 54,
   "metadata": {},
   "outputs": [],
   "source": [
    "# Define an input sequence and process it.\n",
    "encoder_inputs = Input(shape=tmp_x.shape[1:])"
   ]
  },
  {
   "cell_type": "code",
   "execution_count": 56,
   "metadata": {},
   "outputs": [],
   "source": [
    "from keras.layers import LSTM"
   ]
  },
  {
   "cell_type": "code",
   "execution_count": 57,
   "metadata": {},
   "outputs": [],
   "source": [
    "encoder = LSTM(english_vocab_size, return_state=True)"
   ]
  },
  {
   "cell_type": "code",
   "execution_count": 59,
   "metadata": {},
   "outputs": [],
   "source": [
    "encoder_outputs, state_h, state_c = encoder(encoder_inputs)"
   ]
  },
  {
   "cell_type": "code",
   "execution_count": 63,
   "metadata": {},
   "outputs": [],
   "source": [
    "encoder_states = [state_h, state_c]"
   ]
  },
  {
   "cell_type": "code",
   "execution_count": 66,
   "metadata": {},
   "outputs": [],
   "source": [
    "# Define an input sequence and process it.\n",
    "encoder_inputs = Input(shape=tmp_x.shape[1:])\n",
    "encoder = LSTM(english_vocab_size, return_state=True)\n",
    "encoder_outputs, state_h, state_c = encoder(encoder_inputs)\n",
    "# We discard `encoder_outputs` and only keep the states.\n",
    "encoder_states = [state_h, state_c]\n",
    "\n",
    "\n"
   ]
  },
  {
   "cell_type": "code",
   "execution_count": null,
   "metadata": {},
   "outputs": [],
   "source": []
  },
  {
   "cell_type": "code",
   "execution_count": 29,
   "metadata": {},
   "outputs": [
    {
     "data": {
      "text/plain": [
       "'new jersey is sometimes quiet during autumn , and it is snowy in april .'"
      ]
     },
     "execution_count": 29,
     "metadata": {},
     "output_type": "execute_result"
    }
   ],
   "source": [
    "english_sentences[0]"
   ]
  },
  {
   "cell_type": "code",
   "execution_count": 30,
   "metadata": {},
   "outputs": [
    {
     "data": {
      "text/plain": [
       "\"new jersey est parfois calme pendant l' automne , et il est neigeux en avril .\""
      ]
     },
     "execution_count": 30,
     "metadata": {},
     "output_type": "execute_result"
    }
   ],
   "source": [
    "french_sentences[0]"
   ]
  },
  {
   "cell_type": "code",
   "execution_count": 16,
   "metadata": {},
   "outputs": [
    {
     "ename": "ValueError",
     "evalue": "Input 0 is incompatible with layer cu_dnnlstm_1: expected ndim=3, found ndim=2",
     "output_type": "error",
     "traceback": [
      "\u001b[0;31m---------------------------------------------------------------------------\u001b[0m",
      "\u001b[0;31mValueError\u001b[0m                                Traceback (most recent call last)",
      "\u001b[0;32m<ipython-input-16-187423753ae7>\u001b[0m in \u001b[0;36m<module>\u001b[0;34m()\u001b[0m\n\u001b[1;32m     34\u001b[0m \u001b[0;34m\u001b[0m\u001b[0m\n\u001b[1;32m     35\u001b[0m     \u001b[0;32mreturn\u001b[0m \u001b[0mmodel\u001b[0m\u001b[0;34m\u001b[0m\u001b[0m\n\u001b[0;32m---> 36\u001b[0;31m \u001b[0mtests\u001b[0m\u001b[0;34m.\u001b[0m\u001b[0mtest_model_final\u001b[0m\u001b[0;34m(\u001b[0m\u001b[0mmodel_final\u001b[0m\u001b[0;34m)\u001b[0m\u001b[0;34m\u001b[0m\u001b[0m\n\u001b[0m",
      "\u001b[0;32m~/udacity/naturalLaguageProcesssing/project/machineTranslation/aind2-nlp-capstone/project_tests.py\u001b[0m in \u001b[0;36mtest_model_final\u001b[0;34m(model_final)\u001b[0m\n\u001b[1;32m    100\u001b[0m     \u001b[0mfrench_vocab_size\u001b[0m \u001b[0;34m=\u001b[0m \u001b[0;36m344\u001b[0m\u001b[0;34m\u001b[0m\u001b[0m\n\u001b[1;32m    101\u001b[0m \u001b[0;34m\u001b[0m\u001b[0m\n\u001b[0;32m--> 102\u001b[0;31m     \u001b[0mmodel\u001b[0m \u001b[0;34m=\u001b[0m \u001b[0mmodel_final\u001b[0m\u001b[0;34m(\u001b[0m\u001b[0minput_shape\u001b[0m\u001b[0;34m,\u001b[0m \u001b[0moutput_sequence_length\u001b[0m\u001b[0;34m,\u001b[0m \u001b[0menglish_vocab_size\u001b[0m\u001b[0;34m,\u001b[0m \u001b[0mfrench_vocab_size\u001b[0m\u001b[0;34m)\u001b[0m\u001b[0;34m\u001b[0m\u001b[0m\n\u001b[0m\u001b[1;32m    103\u001b[0m     \u001b[0m_test_model\u001b[0m\u001b[0;34m(\u001b[0m\u001b[0mmodel\u001b[0m\u001b[0;34m,\u001b[0m \u001b[0minput_shape\u001b[0m\u001b[0;34m,\u001b[0m \u001b[0moutput_sequence_length\u001b[0m\u001b[0;34m,\u001b[0m \u001b[0mfrench_vocab_size\u001b[0m\u001b[0;34m)\u001b[0m\u001b[0;34m\u001b[0m\u001b[0m\n",
      "\u001b[0;32m<ipython-input-16-187423753ae7>\u001b[0m in \u001b[0;36mmodel_final\u001b[0;34m(input_shape, output_sequence_length, english_vocab_size, french_vocab_size)\u001b[0m\n\u001b[1;32m     15\u001b[0m     \u001b[0mencoder_inputs\u001b[0m \u001b[0;34m=\u001b[0m \u001b[0mInput\u001b[0m\u001b[0;34m(\u001b[0m\u001b[0mshape\u001b[0m\u001b[0;34m=\u001b[0m \u001b[0minput_shape\u001b[0m\u001b[0;34m[\u001b[0m\u001b[0;36m1\u001b[0m\u001b[0;34m:\u001b[0m\u001b[0;34m]\u001b[0m\u001b[0;34m)\u001b[0m\u001b[0;34m\u001b[0m\u001b[0m\n\u001b[1;32m     16\u001b[0m     \u001b[0mencoder\u001b[0m \u001b[0;34m=\u001b[0m \u001b[0mCuDNNLSTM\u001b[0m\u001b[0;34m(\u001b[0m\u001b[0membedding_dimention\u001b[0m\u001b[0;34m,\u001b[0m \u001b[0mreturn_state\u001b[0m\u001b[0;34m=\u001b[0m\u001b[0;32mTrue\u001b[0m\u001b[0;34m)\u001b[0m\u001b[0;34m\u001b[0m\u001b[0m\n\u001b[0;32m---> 17\u001b[0;31m     \u001b[0mencoder_outputs\u001b[0m\u001b[0;34m,\u001b[0m \u001b[0mstate_h\u001b[0m\u001b[0;34m,\u001b[0m \u001b[0mstate_c\u001b[0m \u001b[0;34m=\u001b[0m \u001b[0mencoder\u001b[0m\u001b[0;34m(\u001b[0m\u001b[0mencoder_inputs\u001b[0m\u001b[0;34m)\u001b[0m\u001b[0;34m\u001b[0m\u001b[0m\n\u001b[0m\u001b[1;32m     18\u001b[0m     \u001b[0;31m# We discard `encoder_outputs` and only keep the states.\u001b[0m\u001b[0;34m\u001b[0m\u001b[0;34m\u001b[0m\u001b[0m\n\u001b[1;32m     19\u001b[0m     \u001b[0mencoder_states\u001b[0m \u001b[0;34m=\u001b[0m \u001b[0;34m[\u001b[0m\u001b[0mstate_h\u001b[0m\u001b[0;34m,\u001b[0m \u001b[0mstate_c\u001b[0m\u001b[0;34m]\u001b[0m\u001b[0;34m\u001b[0m\u001b[0m\n",
      "\u001b[0;32m/usr/local/lib/python3.5/dist-packages/keras/layers/recurrent.py\u001b[0m in \u001b[0;36m__call__\u001b[0;34m(self, inputs, initial_state, constants, **kwargs)\u001b[0m\n\u001b[1;32m    480\u001b[0m \u001b[0;34m\u001b[0m\u001b[0m\n\u001b[1;32m    481\u001b[0m         \u001b[0;32mif\u001b[0m \u001b[0minitial_state\u001b[0m \u001b[0;32mis\u001b[0m \u001b[0;32mNone\u001b[0m \u001b[0;32mand\u001b[0m \u001b[0mconstants\u001b[0m \u001b[0;32mis\u001b[0m \u001b[0;32mNone\u001b[0m\u001b[0;34m:\u001b[0m\u001b[0;34m\u001b[0m\u001b[0m\n\u001b[0;32m--> 482\u001b[0;31m             \u001b[0;32mreturn\u001b[0m \u001b[0msuper\u001b[0m\u001b[0;34m(\u001b[0m\u001b[0mRNN\u001b[0m\u001b[0;34m,\u001b[0m \u001b[0mself\u001b[0m\u001b[0;34m)\u001b[0m\u001b[0;34m.\u001b[0m\u001b[0m__call__\u001b[0m\u001b[0;34m(\u001b[0m\u001b[0minputs\u001b[0m\u001b[0;34m,\u001b[0m \u001b[0;34m**\u001b[0m\u001b[0mkwargs\u001b[0m\u001b[0;34m)\u001b[0m\u001b[0;34m\u001b[0m\u001b[0m\n\u001b[0m\u001b[1;32m    483\u001b[0m \u001b[0;34m\u001b[0m\u001b[0m\n\u001b[1;32m    484\u001b[0m         \u001b[0;31m# If any of `initial_state` or `constants` are specified and are Keras\u001b[0m\u001b[0;34m\u001b[0m\u001b[0;34m\u001b[0m\u001b[0m\n",
      "\u001b[0;32m/usr/local/lib/python3.5/dist-packages/keras/engine/topology.py\u001b[0m in \u001b[0;36m__call__\u001b[0;34m(self, inputs, **kwargs)\u001b[0m\n\u001b[1;32m    557\u001b[0m                 \u001b[0;31m# Raise exceptions in case the input is not compatible\u001b[0m\u001b[0;34m\u001b[0m\u001b[0;34m\u001b[0m\u001b[0m\n\u001b[1;32m    558\u001b[0m                 \u001b[0;31m# with the input_spec specified in the layer constructor.\u001b[0m\u001b[0;34m\u001b[0m\u001b[0;34m\u001b[0m\u001b[0m\n\u001b[0;32m--> 559\u001b[0;31m                 \u001b[0mself\u001b[0m\u001b[0;34m.\u001b[0m\u001b[0massert_input_compatibility\u001b[0m\u001b[0;34m(\u001b[0m\u001b[0minputs\u001b[0m\u001b[0;34m)\u001b[0m\u001b[0;34m\u001b[0m\u001b[0m\n\u001b[0m\u001b[1;32m    560\u001b[0m \u001b[0;34m\u001b[0m\u001b[0m\n\u001b[1;32m    561\u001b[0m                 \u001b[0;31m# Collect input shapes to build layer.\u001b[0m\u001b[0;34m\u001b[0m\u001b[0;34m\u001b[0m\u001b[0m\n",
      "\u001b[0;32m/usr/local/lib/python3.5/dist-packages/keras/engine/topology.py\u001b[0m in \u001b[0;36massert_input_compatibility\u001b[0;34m(self, inputs)\u001b[0m\n\u001b[1;32m    456\u001b[0m                                      \u001b[0mself\u001b[0m\u001b[0;34m.\u001b[0m\u001b[0mname\u001b[0m \u001b[0;34m+\u001b[0m \u001b[0;34m': expected ndim='\u001b[0m \u001b[0;34m+\u001b[0m\u001b[0;34m\u001b[0m\u001b[0m\n\u001b[1;32m    457\u001b[0m                                      \u001b[0mstr\u001b[0m\u001b[0;34m(\u001b[0m\u001b[0mspec\u001b[0m\u001b[0;34m.\u001b[0m\u001b[0mndim\u001b[0m\u001b[0;34m)\u001b[0m \u001b[0;34m+\u001b[0m \u001b[0;34m', found ndim='\u001b[0m \u001b[0;34m+\u001b[0m\u001b[0;34m\u001b[0m\u001b[0m\n\u001b[0;32m--> 458\u001b[0;31m                                      str(K.ndim(x)))\n\u001b[0m\u001b[1;32m    459\u001b[0m             \u001b[0;32mif\u001b[0m \u001b[0mspec\u001b[0m\u001b[0;34m.\u001b[0m\u001b[0mmax_ndim\u001b[0m \u001b[0;32mis\u001b[0m \u001b[0;32mnot\u001b[0m \u001b[0;32mNone\u001b[0m\u001b[0;34m:\u001b[0m\u001b[0;34m\u001b[0m\u001b[0m\n\u001b[1;32m    460\u001b[0m                 \u001b[0mndim\u001b[0m \u001b[0;34m=\u001b[0m \u001b[0mK\u001b[0m\u001b[0;34m.\u001b[0m\u001b[0mndim\u001b[0m\u001b[0;34m(\u001b[0m\u001b[0mx\u001b[0m\u001b[0;34m)\u001b[0m\u001b[0;34m\u001b[0m\u001b[0m\n",
      "\u001b[0;31mValueError\u001b[0m: Input 0 is incompatible with layer cu_dnnlstm_1: expected ndim=3, found ndim=2"
     ]
    }
   ],
   "source": [
    "def model_final(input_shape, output_sequence_length, english_vocab_size, french_vocab_size):\n",
    "    \"\"\"\n",
    "    Build and train a model that incorporates embedding, encoder-decoder, and bidirectional RNN on x and y\n",
    "    :param input_shape: Tuple of input shape\n",
    "    :param output_sequence_length: Length of output sequence\n",
    "    :param english_vocab_size: Number of unique English words in the dataset\n",
    "    :param french_vocab_size: Number of unique French words in the dataset\n",
    "    :return: Keras model built, but not trained\n",
    "    \"\"\"\n",
    "    # TODO: Implement\n",
    "    learning_rate = 0.001\n",
    "    embedding_dimention = 256\n",
    "    num_encoder_tokens = english_vocab_size\n",
    "    num_decoder_tokens = french_vocab_size\n",
    "    encoder_inputs = Input(shape= input_shape[1:])\n",
    "    encoder = CuDNNLSTM(embedding_dimention, return_state=True)\n",
    "    encoder_outputs, state_h, state_c = encoder(encoder_inputs)\n",
    "    # We discard `encoder_outputs` and only keep the states.\n",
    "    encoder_states = [state_h, state_c]\n",
    "    # Set up the decoder, using `encoder_states` as initial state.\n",
    "    decoder_inputs = Input(shape= (french_vocab_size, 1))\n",
    "    # We set up our decoder to return full output sequences,\n",
    "    # and to return internal states as well. We don't use the\n",
    "    # return states in the training model, but we will use them in inference.\n",
    "    decoder_lstm = LSTM(latent_dim, return_sequences=True, return_state=True)\n",
    "    decoder_outputs, _, _ = decoder_lstm(decoder_inputs, initial_state=encoder_states)\n",
    "    decoder_dense = Dense(num_decoder_tokens, activation='softmax')\n",
    "    decoder_outputs = decoder_dense(decoder_outputs)\n",
    "    # Define the model that will turn\n",
    "    # `encoder_input_data` & `decoder_input_data` into `decoder_target_data`\n",
    "    model = Model([encoder_inputs, decoder_inputs], decoder_outputs)\n",
    "    model.compile(loss=sparse_categorical_crossentropy,\n",
    "                  optimizer=Adam(learning_rate), metrics=['accuracy'])\n",
    "    \n",
    "    return model\n",
    "tests.test_model_final(model_final)"
   ]
  },
  {
   "cell_type": "code",
   "execution_count": 47,
   "metadata": {},
   "outputs": [],
   "source": [
    "# Set up the decoder, using `encoder_states` as initial state.\n",
    "decoder_inputs = Input(shape=french_vocab_size\n",
    "# We set up our decoder to return full output sequences,\n",
    "# and to return internal states as well. We don't use the\n",
    "# return states in the training model, but we will use them in inference.\n",
    "decoder_lstm = LSTM(latent_dim, return_sequences=True, return_state=True)\n",
    "decoder_outputs, _, _ = decoder_lstm(decoder_inputs, initial_state=encoder_states)\n",
    "decoder_dense = Dense(num_decoder_tokens, activation='softmax')\n",
    "decoder_outputs = decoder_dense(decoder_outputs)"
   ]
  },
  {
   "cell_type": "code",
   "execution_count": null,
   "metadata": {},
   "outputs": [],
   "source": [
    "emb = Embedding(input_dim=english_vocab_size ,output_dim=output_sequence_length)(input_seq)"
   ]
  },
  {
   "cell_type": "code",
   "execution_count": 52,
   "metadata": {},
   "outputs": [
    {
     "data": {
      "text/plain": [
       "15"
      ]
     },
     "execution_count": 52,
     "metadata": {},
     "output_type": "execute_result"
    }
   ],
   "source": [
    "max_english_sequence_length"
   ]
  },
  {
   "cell_type": "code",
   "execution_count": 1,
   "metadata": {},
   "outputs": [
    {
     "ename": "NameError",
     "evalue": "name 'tmp_x' is not defined",
     "output_type": "error",
     "traceback": [
      "\u001b[0;31m---------------------------------------------------------------------------\u001b[0m",
      "\u001b[0;31mNameError\u001b[0m                                 Traceback (most recent call last)",
      "\u001b[0;32m<ipython-input-1-bd38cd961a9d>\u001b[0m in \u001b[0;36m<module>\u001b[0;34m()\u001b[0m\n\u001b[0;32m----> 1\u001b[0;31m \u001b[0mtmp_x\u001b[0m\u001b[0;34m.\u001b[0m\u001b[0mshape\u001b[0m\u001b[0;34m\u001b[0m\u001b[0m\n\u001b[0m",
      "\u001b[0;31mNameError\u001b[0m: name 'tmp_x' is not defined"
     ]
    }
   ],
   "source": [
    "tmp_x.shape"
   ]
  },
  {
   "cell_type": "code",
   "execution_count": 19,
   "metadata": {},
   "outputs": [
    {
     "name": "stdout",
     "output_type": "stream",
     "text": [
      "(137861, 21, 1)\n"
     ]
    },
    {
     "ename": "NameError",
     "evalue": "name 'Sequential' is not defined",
     "output_type": "error",
     "traceback": [
      "\u001b[0;31m---------------------------------------------------------------------------\u001b[0m",
      "\u001b[0;31mNameError\u001b[0m                                 Traceback (most recent call last)",
      "\u001b[0;32m<ipython-input-19-cb40d25acfd4>\u001b[0m in \u001b[0;36m<module>\u001b[0;34m()\u001b[0m\n\u001b[1;32m      8\u001b[0m     \u001b[0mmax_french_sequence_length\u001b[0m\u001b[0;34m,\u001b[0m\u001b[0;34m\u001b[0m\u001b[0m\n\u001b[1;32m      9\u001b[0m     \u001b[0menglish_vocab_size\u001b[0m\u001b[0;34m,\u001b[0m\u001b[0;34m\u001b[0m\u001b[0m\n\u001b[0;32m---> 10\u001b[0;31m     french_vocab_size)\n\u001b[0m\u001b[1;32m     11\u001b[0m \u001b[0;34m\u001b[0m\u001b[0m\n\u001b[1;32m     12\u001b[0m \u001b[0;34m\u001b[0m\u001b[0m\n",
      "\u001b[0;32m<ipython-input-17-0531a7b4b80a>\u001b[0m in \u001b[0;36mmodel_final\u001b[0;34m(input_shape, output_sequence_length, english_vocab_size, french_vocab_size)\u001b[0m\n\u001b[1;32m     11\u001b[0m     \u001b[0mlearning_rate\u001b[0m \u001b[0;34m=\u001b[0m \u001b[0;36m0.001\u001b[0m\u001b[0;34m\u001b[0m\u001b[0m\n\u001b[1;32m     12\u001b[0m     \u001b[0mprint\u001b[0m\u001b[0;34m(\u001b[0m\u001b[0minput_shape\u001b[0m\u001b[0;34m)\u001b[0m\u001b[0;34m\u001b[0m\u001b[0m\n\u001b[0;32m---> 13\u001b[0;31m     \u001b[0mmodel\u001b[0m \u001b[0;34m=\u001b[0m \u001b[0mSequential\u001b[0m\u001b[0;34m(\u001b[0m\u001b[0;34m)\u001b[0m\u001b[0;34m\u001b[0m\u001b[0m\n\u001b[0m\u001b[1;32m     14\u001b[0m     \u001b[0mmodel\u001b[0m\u001b[0;34m.\u001b[0m\u001b[0madd\u001b[0m\u001b[0;34m(\u001b[0m\u001b[0mEmbedding\u001b[0m\u001b[0;34m(\u001b[0m\u001b[0minput_dim\u001b[0m\u001b[0;34m=\u001b[0m\u001b[0menglish_vocab_size\u001b[0m\u001b[0;34m,\u001b[0m \u001b[0moutput_dim\u001b[0m\u001b[0;34m=\u001b[0m \u001b[0menglish_vocab_size\u001b[0m\u001b[0;34m,\u001b[0m \u001b[0mmask_zero\u001b[0m\u001b[0;34m=\u001b[0m\u001b[0;32mFalse\u001b[0m\u001b[0;34m,\u001b[0m \u001b[0minput_length\u001b[0m\u001b[0;34m=\u001b[0m\u001b[0minput_shape\u001b[0m\u001b[0;34m[\u001b[0m\u001b[0;36m1\u001b[0m\u001b[0;34m]\u001b[0m\u001b[0;34m)\u001b[0m\u001b[0;34m)\u001b[0m\u001b[0;34m\u001b[0m\u001b[0m\n\u001b[1;32m     15\u001b[0m     \u001b[0mmodel\u001b[0m\u001b[0;34m.\u001b[0m\u001b[0madd\u001b[0m\u001b[0;34m(\u001b[0m\u001b[0mBidirectional\u001b[0m\u001b[0;34m(\u001b[0m\u001b[0mGRU\u001b[0m\u001b[0;34m(\u001b[0m\u001b[0moutput_sequence_length\u001b[0m\u001b[0;34m,\u001b[0m \u001b[0mreturn_sequences\u001b[0m\u001b[0;34m=\u001b[0m\u001b[0;32mFalse\u001b[0m\u001b[0;34m)\u001b[0m\u001b[0;34m)\u001b[0m\u001b[0;34m)\u001b[0m\u001b[0;34m\u001b[0m\u001b[0m\n",
      "\u001b[0;31mNameError\u001b[0m: name 'Sequential' is not defined"
     ]
    }
   ],
   "source": [
    "# TODO: Train the final model\n",
    "# TODO: Reshape the input\n",
    "tmp_x = pad(preproc_english_sentences, max_french_sequence_length)\n",
    "tmp_x = tmp_x.reshape((-1, preproc_french_sentences.shape[-2], 1))\n",
    "\n",
    "final_model = model_final(\n",
    "    tmp_x.shape,\n",
    "    max_french_sequence_length,\n",
    "    english_vocab_size,\n",
    "    french_vocab_size)\n",
    "\n",
    "\n",
    "final_model.fit(tmp_x, preproc_french_sentences, batch_size=1024, epochs=100, validation_split=0.2)\n",
    "\n",
    "# Print prediction(s)\n",
    "print(logits_to_text(final_model.predict(tmp_x[:1])[0], french_tokenizer))"
   ]
  },
  {
   "cell_type": "code",
   "execution_count": 16,
   "metadata": {},
   "outputs": [],
   "source": [
    "from keras import  Sequential\n",
    "from keras.layers import Dropout\n"
   ]
  },
  {
   "cell_type": "code",
   "execution_count": 18,
   "metadata": {},
   "outputs": [
    {
     "data": {
      "text/plain": [
       "(21, 199)"
      ]
     },
     "execution_count": 18,
     "metadata": {},
     "output_type": "execute_result"
    }
   ],
   "source": [
    "max_french_sequence_length , english_vocab_size"
   ]
  },
  {
   "cell_type": "code",
   "execution_count": 63,
   "metadata": {},
   "outputs": [
    {
     "data": {
      "text/plain": [
       "(344, 15)"
      ]
     },
     "execution_count": 63,
     "metadata": {},
     "output_type": "execute_result"
    }
   ],
   "source": [
    "french_vocab_size, max_english_sequence_length"
   ]
  },
  {
   "cell_type": "code",
   "execution_count": 57,
   "metadata": {},
   "outputs": [
    {
     "name": "stdout",
     "output_type": "stream",
     "text": [
      "Final Model Loaded\n"
     ]
    }
   ],
   "source": [
    "def model_final(input_shape, output_sequence_length, english_vocab_size, french_vocab_size):\n",
    "    \"\"\"\n",
    "    Build and train a model that incorporates embedding, encoder-decoder, and bidirectional RNN on x and y\n",
    "    :param input_shape: Tuple of input shape\n",
    "    :param output_sequence_length: Length of output sequence\n",
    "    :param english_vocab_size: Number of unique English words in the dataset\n",
    "    :param french_vocab_size: Number of unique French words in the dataset\n",
    "    :return: Keras model built, but not trained\n",
    "    \"\"\"\n",
    "    # TODO: Implement\n",
    "    learning_rate = 0.001\n",
    "    model = Sequential()\n",
    "    model.add(Embedding(input_dim=english_vocab_size, output_dim= english_vocab_size, mask_zero=False, input_length=input_shape[-1]))\n",
    "    model.add(Bidirectional(CuDNNLSTM(output_sequence_length, return_sequences=False)))\n",
    "    model.add(RepeatVector(output_sequence_length))\n",
    "    model.add(Bidirectional(CuDNNLSTM(output_sequence_length, return_sequences=True)))\n",
    "    model.add(Dropout(0.4))\n",
    "    model.add(Bidirectional(CuDNNLSTM(output_sequence_length, return_sequences=True)))\n",
    "    model.add(Dropout(0.4))\n",
    "    model.add(Bidirectional(CuDNNLSTM(output_sequence_length, return_sequences=True)))\n",
    "    model.add(Dropout(0.4))\n",
    "    model.add(Bidirectional(CuDNNLSTM(output_sequence_length, return_sequences=True)))\n",
    "    model.add(Dropout(0.4))\n",
    "    model.add(TimeDistributed(Dense(512, activation='relu')))\n",
    "    model.add(Dropout(0.4))\n",
    "    model.add(TimeDistributed(Dense(french_vocab_size)))\n",
    "    model.compile(loss=sparse_categorical_crossentropy, optimizer=Adam(learning_rate), metrics=['sparse_categorical_accuracy'])\n",
    "    return model\n",
    "\n",
    "\n",
    "\n",
    "\n",
    "tests.test_model_final(model_final)\n",
    "print('Final Model Loaded')\n"
   ]
  },
  {
   "cell_type": "markdown",
   "metadata": {},
   "source": [
    "## Prediction (IMPLEMENTATION)"
   ]
  },
  {
   "cell_type": "code",
   "execution_count": 53,
   "metadata": {},
   "outputs": [],
   "source": [
    "import matplotlib.pyplot as plt\n",
    "from keras.models import model_from_json\n"
   ]
  },
  {
   "cell_type": "code",
   "execution_count": null,
   "metadata": {},
   "outputs": [],
   "source": [
    "# serialize model to JSON\n",
    "model_json = model.to_json()\n",
    "with open(\"model.json\", \"w\") as json_file:\n",
    "    json_file.write(model_json)\n",
    "# serialize weights to HDF5\n",
    "model.save_weights(\"model.h5\")\n",
    "\n",
    "json_file = open('model.json', 'r')\n",
    "loaded_model_json = json_file.read()\n",
    "json_file.close()\n",
    "loaded_model = model_from_json(loaded_model_json)\n",
    "# load weights into new model\n",
    "loaded_model.load_weights(\"model.h5\")\n",
    "print(\"Loaded model from disk\")"
   ]
  },
  {
   "cell_type": "code",
   "execution_count": 58,
   "metadata": {
    "scrolled": true
   },
   "outputs": [
    {
     "name": "stdout",
     "output_type": "stream",
     "text": [
      "Train on 110288 samples, validate on 27573 samples\n",
      "Epoch 1/20\n",
      "110288/110288 [==============================] - 18s 166us/step - loss: 3.5685 - sparse_categorical_accuracy: 0.4198 - val_loss: nan - val_sparse_categorical_accuracy: 0.4780\n",
      "Epoch 2/20\n",
      "110288/110288 [==============================] - 15s 135us/step - loss: 3.0556 - sparse_categorical_accuracy: 0.4561 - val_loss: nan - val_sparse_categorical_accuracy: 0.5027\n",
      "Epoch 3/20\n",
      "110288/110288 [==============================] - 15s 136us/step - loss: 2.8761 - sparse_categorical_accuracy: 0.4610 - val_loss: nan - val_sparse_categorical_accuracy: 0.4762\n",
      "Epoch 4/20\n",
      "110288/110288 [==============================] - 15s 135us/step - loss: 3.2603 - sparse_categorical_accuracy: 0.4044 - val_loss: nan - val_sparse_categorical_accuracy: 0.4233\n",
      "Epoch 5/20\n",
      "110288/110288 [==============================] - 15s 135us/step - loss: 3.3349 - sparse_categorical_accuracy: 0.4288 - val_loss: nan - val_sparse_categorical_accuracy: 0.4652\n",
      "Epoch 6/20\n",
      "110288/110288 [==============================] - 15s 135us/step - loss: 3.1379 - sparse_categorical_accuracy: 0.4411 - val_loss: nan - val_sparse_categorical_accuracy: 0.3890\n",
      "Epoch 7/20\n",
      "110288/110288 [==============================] - 15s 136us/step - loss: 3.2441 - sparse_categorical_accuracy: 0.4363 - val_loss: nan - val_sparse_categorical_accuracy: 0.4754\n",
      "Epoch 8/20\n",
      "110288/110288 [==============================] - 15s 136us/step - loss: 3.0624 - sparse_categorical_accuracy: 0.4513 - val_loss: nan - val_sparse_categorical_accuracy: 0.4766\n",
      "Epoch 9/20\n",
      "110288/110288 [==============================] - 15s 134us/step - loss: 3.0029 - sparse_categorical_accuracy: 0.4596 - val_loss: nan - val_sparse_categorical_accuracy: 0.4791\n",
      "Epoch 10/20\n",
      "110288/110288 [==============================] - 15s 135us/step - loss: 3.1012 - sparse_categorical_accuracy: 0.4438 - val_loss: nan - val_sparse_categorical_accuracy: 0.4484\n",
      "Epoch 11/20\n",
      "110288/110288 [==============================] - 15s 137us/step - loss: 3.2650 - sparse_categorical_accuracy: 0.4397 - val_loss: nan - val_sparse_categorical_accuracy: 0.3926\n",
      "Epoch 12/20\n",
      "110288/110288 [==============================] - 15s 136us/step - loss: 3.3207 - sparse_categorical_accuracy: 0.4307 - val_loss: nan - val_sparse_categorical_accuracy: 0.4741\n",
      "Epoch 13/20\n",
      "110288/110288 [==============================] - 15s 135us/step - loss: 3.1567 - sparse_categorical_accuracy: 0.4472 - val_loss: nan - val_sparse_categorical_accuracy: 0.4425\n",
      "Epoch 14/20\n",
      "110288/110288 [==============================] - 15s 136us/step - loss: 3.0856 - sparse_categorical_accuracy: 0.4472 - val_loss: nan - val_sparse_categorical_accuracy: 0.4760\n",
      "Epoch 15/20\n",
      "110288/110288 [==============================] - 15s 137us/step - loss: 2.9521 - sparse_categorical_accuracy: 0.4575 - val_loss: nan - val_sparse_categorical_accuracy: 0.4738\n",
      "Epoch 16/20\n",
      "110288/110288 [==============================] - 15s 137us/step - loss: 2.9067 - sparse_categorical_accuracy: 0.4583 - val_loss: nan - val_sparse_categorical_accuracy: 0.4532\n",
      "Epoch 17/20\n",
      "110288/110288 [==============================] - 15s 136us/step - loss: 3.0071 - sparse_categorical_accuracy: 0.4588 - val_loss: nan - val_sparse_categorical_accuracy: 0.4500\n",
      "Epoch 18/20\n",
      "110288/110288 [==============================] - 15s 136us/step - loss: 3.1833 - sparse_categorical_accuracy: 0.4377 - val_loss: nan - val_sparse_categorical_accuracy: 0.4496\n",
      "Epoch 19/20\n",
      "110288/110288 [==============================] - 15s 133us/step - loss: 3.0291 - sparse_categorical_accuracy: 0.4468 - val_loss: nan - val_sparse_categorical_accuracy: 0.4539\n",
      "Epoch 20/20\n",
      "110288/110288 [==============================] - 15s 136us/step - loss: 2.9725 - sparse_categorical_accuracy: 0.4448 - val_loss: nan - val_sparse_categorical_accuracy: 0.4443\n"
     ]
    },
    {
     "data": {
      "image/png": "[encoded data removed]",
      "text/plain": [
       "<Figure size 432x288 with 1 Axes>"
      ]
     },
     "metadata": {},
     "output_type": "display_data"
    },
    {
     "data": {
      "image/png": "[encoded data removed]",
      "text/plain": [
       "<Figure size 432x288 with 1 Axes>"
      ]
     },
     "metadata": {},
     "output_type": "display_data"
    },
    {
     "name": "stdout",
     "output_type": "stream",
     "text": [
      "Sample 1:\n",
      "<PAD> <PAD> <PAD> <PAD> <PAD> <PAD> <PAD> <PAD> <PAD> <PAD> <PAD> <PAD> <PAD> <PAD> <PAD> <PAD> <PAD> <PAD> <PAD> <PAD> <PAD>\n",
      "Il a vu un vieux camion jaune\n",
      "Sample 2:\n",
      "est est est est est est est en en en <PAD> <PAD> <PAD> <PAD> <PAD> <PAD> <PAD> <PAD> <PAD> <PAD> <PAD>\n",
      "new jersey est parfois calme pendant l' automne et il est neigeux en avril <PAD> <PAD> <PAD> <PAD> <PAD> <PAD> <PAD>\n"
     ]
    }
   ],
   "source": [
    "def final_predictions(x, y, x_tk, y_tk):\n",
    "    \"\"\"\n",
    "    Gets predictions using the final model\n",
    "    :param x: Preprocessed English data\n",
    "    :param y: Preprocessed French data\n",
    "    :param x_tk: English tokenizer\n",
    "    :param y_tk: French tokenizer\n",
    "    \"\"\"\n",
    "    # TODO: Train neural network using model_finalyy\n",
    "    tmp_x = pad(preproc_english_sentences, max_english_sequence_length)\n",
    "    continue_training = False\n",
    "    if not continue_training:\n",
    "        model = model_final(tmp_x.shape,max_french_sequence_length, english_vocab_size, french_vocab_size)\n",
    "    else:\n",
    "        json_file = open('model.json', 'r')\n",
    "        loaded_model_json = json_file.read()\n",
    "        json_file.close()\n",
    "        loaded_model = model_from_json(loaded_model_json)\n",
    "        # load weights into new model\n",
    "        loaded_model.load_weights(\"model.h5\")\n",
    "        model = loaded_model\n",
    "        model.compile(loss=sparse_categorical_crossentropy, optimizer=Adam(learning_rate), metrics=['sparse_categorical_accuracy'])\n",
    "        print(\"Loaded model from disk\")\n",
    "    r = model.fit(tmp_x, preproc_french_sentences, batch_size=256, epochs=20, validation_split=0.2)\n",
    "    # serialize model to JSON\n",
    "    model_json = model.to_json()\n",
    "    with open(\"model.json\", \"w\") as json_file:\n",
    "        json_file.write(model_json)\n",
    "    # serialize weights to HDF5\n",
    "    model.save_weights(\"model.h5\")\n",
    "    plt.plot(r.history['loss'],label='loss')\n",
    "    plt.plot(r.history['val_loss'],label='val_loss')\n",
    "    plt.legend()\n",
    "    plt.show()\n",
    "    plt.plot(r.history['sparse_categorical_accuracy'],label='acc')\n",
    "    plt.plot(r.history['val_sparse_categorical_accuracy'],label='val_acc')\n",
    "    plt.legend()\n",
    "    plt.show()\n",
    "    ## DON'T EDIT ANYTHING BELOW THIS LINE\n",
    "    y_id_to_word = {value: key for key, value in y_tk.word_index.items()}\n",
    "    y_id_to_word[0] = '<PAD>'\n",
    "\n",
    "    sentence = 'he saw a old yellow truck'\n",
    "    sentence = [x_tk.word_index[word] for word in sentence.split()]\n",
    "    sentence = pad_sequences([sentence], maxlen=x.shape[-1], padding='post')\n",
    "    sentences = np.array([sentence[0], x[0]])\n",
    "    predictions = model.predict(sentences, len(sentences))\n",
    "\n",
    "    print('Sample 1:')\n",
    "    print(' '.join([y_id_to_word[np.argmax(x)] for x in predictions[0]]))\n",
    "    print('Il a vu un vieux camion jaune')\n",
    "    print('Sample 2:')\n",
    "    print(' '.join([y_id_to_word[np.argmax(x)] for x in predictions[1]]))\n",
    "    print(' '.join([y_id_to_word[np.max(x)] for x in y[0]]))\n",
    "\n",
    "\n",
    "model = final_predictions(preproc_english_sentences, preproc_french_sentences, english_tokenizer, french_tokenizer)"
   ]
  },
  {
   "cell_type": "code",
   "execution_count": 19,
   "metadata": {},
   "outputs": [],
   "source": [
    "x_tk = english_tokenizer\n",
    "x = preproc_english_sentences"
   ]
  },
  {
   "cell_type": "code",
   "execution_count": 20,
   "metadata": {},
   "outputs": [],
   "source": [
    "sentence = 'he saw a old yellow truck'\n",
    "sentence = [x_tk.word_index[word] for word in sentence.split()]\n",
    "sentence = pad_sequences([sentence], maxlen=x.shape[-1], padding='post')\n",
    "sentences = np.array([sentence[0], x[0]])"
   ]
  },
  {
   "cell_type": "code",
   "execution_count": 21,
   "metadata": {},
   "outputs": [
    {
     "data": {
      "text/plain": [
       "(2, 15)"
      ]
     },
     "execution_count": 21,
     "metadata": {},
     "output_type": "execute_result"
    }
   ],
   "source": [
    "sentences.shape"
   ]
  },
  {
   "cell_type": "code",
   "execution_count": 28,
   "metadata": {},
   "outputs": [
    {
     "data": {
      "text/plain": [
       "(137861, 15)"
      ]
     },
     "execution_count": 28,
     "metadata": {},
     "output_type": "execute_result"
    }
   ],
   "source": [
    "tmp_x = pad(preproc_english_sentences, max_english_sequence_length)\n",
    "#tmp_x = tmp_x.reshape((-1, preproc_english_sentences.shape[-2]))\n",
    "tmp_x.shape"
   ]
  },
  {
   "cell_type": "code",
   "execution_count": 25,
   "metadata": {},
   "outputs": [
    {
     "data": {
      "text/plain": [
       "array([[ 26, 127, 100, 111, 112, 101,   0,   0,   0,   0,   0,   0,   0,\n",
       "          0,   0],\n",
       "       [ 17,  23,   1,   8,  67,   4,  39,   7,   3,   1,  55,   2,  44,\n",
       "          0,   0]], dtype=int32)"
      ]
     },
     "execution_count": 25,
     "metadata": {},
     "output_type": "execute_result"
    }
   ],
   "source": [
    "sentences"
   ]
  },
  {
   "cell_type": "code",
   "execution_count": 37,
   "metadata": {},
   "outputs": [
    {
     "name": "stdout",
     "output_type": "stream",
     "text": [
      "Train on 110288 samples, validate on 27573 samples\n",
      "Epoch 1/1\n",
      "110288/110288 [==============================] - 11s 98us/step - loss: 6.0088 - sparse_categorical_accuracy: 0.1041 - val_loss: nan - val_sparse_categorical_accuracy: 0.0061\n"
     ]
    }
   ],
   "source": [
    "tmp_x = pad(preproc_english_sentences, max_english_sequence_length)\n",
    "input_shape= tmp_x.shape\n",
    "output_sequence_length = max_french_sequence_length\n",
    "learning_rate = 0.1\n",
    "model = Sequential()\n",
    "model.add(Embedding(input_dim=english_vocab_size, output_dim= english_vocab_size, mask_zero=False, input_length=input_shape[-1]))\n",
    "model.add(Bidirectional(GRU(output_sequence_length, return_sequences=False)))\n",
    "model.add(RepeatVector(output_sequence_length))\n",
    "model.add(Bidirectional(GRU(output_sequence_length, return_sequences=True)))\n",
    "model.add(Dropout(0.5))\n",
    "model.add(TimeDistributed(Dense(1024,activation='relu')))\n",
    "model.add(TimeDistributed(Dense(french_vocab_size)))\n",
    "model.compile(loss=sparse_categorical_crossentropy, optimizer=Adam(learning_rate), metrics=['sparse_categorical_accuracy'])\n",
    "r = model.fit(tmp_x, preproc_french_sentences, batch_size=1024, epochs=1, validation_split=0.2)"
   ]
  },
  {
   "cell_type": "code",
   "execution_count": 38,
   "metadata": {},
   "outputs": [
    {
     "data": {
      "text/plain": [
       "{'loss': [6.008828920081861],\n",
       " 'sparse_categorical_accuracy': [0.10412435989703156],\n",
       " 'val_loss': [nan],\n",
       " 'val_sparse_categorical_accuracy': [0.006137819638450713]}"
      ]
     },
     "execution_count": 38,
     "metadata": {},
     "output_type": "execute_result"
    }
   ],
   "source": [
    "r.history"
   ]
  },
  {
   "cell_type": "code",
   "execution_count": null,
   "metadata": {},
   "outputs": [],
   "source": []
  },
  {
   "cell_type": "code",
   "execution_count": 30,
   "metadata": {},
   "outputs": [
    {
     "data": {
      "text/plain": [
       "array([[[ 557.8807 ,  559.5869 ,  564.68005, ..., -555.3662 ,\n",
       "         -556.5785 , -556.09174],\n",
       "        [ 569.66724,  577.0893 ,  582.60645, ..., -572.90594,\n",
       "         -574.4993 , -573.87744],\n",
       "        [ 548.4464 ,  552.77466,  557.66504, ..., -547.7552 ,\n",
       "         -549.01733, -548.3152 ],\n",
       "        ...,\n",
       "        [ 567.2832 ,  573.0085 ,  578.25635, ..., -568.3038 ,\n",
       "         -569.7967 , -569.08014],\n",
       "        [ 567.28595,  573.0155 ,  578.2646 , ..., -568.3124 ,\n",
       "         -569.8052 , -569.0888 ],\n",
       "        [ 566.03796,  571.54504,  576.7176 , ..., -566.74005,\n",
       "         -568.2357 , -567.50903]],\n",
       "\n",
       "       [[ 593.7927 ,  604.62744,  610.55756, ..., -601.42267,\n",
       "         -604.50867, -604.2785 ],\n",
       "        [ 572.92725,  585.89954,  589.4983 , ..., -579.02057,\n",
       "         -581.2581 , -579.8673 ],\n",
       "        [ 581.8829 ,  596.71234,  600.4791 , ..., -590.03204,\n",
       "         -592.3152 , -590.93243],\n",
       "        ...,\n",
       "        [ 571.6823 ,  585.5598 ,  589.17584, ..., -578.72864,\n",
       "         -580.9065 , -579.5239 ],\n",
       "        [ 572.3134 ,  586.27997,  589.9076 , ..., -579.447  ,\n",
       "         -581.6308 , -580.253  ],\n",
       "        [ 538.3773 ,  550.0477 ,  553.60254, ..., -543.0435 ,\n",
       "         -545.11816, -543.57025]]], dtype=float32)"
      ]
     },
     "execution_count": 30,
     "metadata": {},
     "output_type": "execute_result"
    }
   ],
   "source": [
    "model.predict(sentences)"
   ]
  },
  {
   "cell_type": "code",
   "execution_count": 48,
   "metadata": {},
   "outputs": [],
   "source": [
    "input_layer = model.layers[0]"
   ]
  },
  {
   "cell_type": "code",
   "execution_count": 51,
   "metadata": {},
   "outputs": [
    {
     "data": {
      "text/plain": [
       "(None, 21, 199)"
      ]
     },
     "execution_count": 51,
     "metadata": {},
     "output_type": "execute_result"
    }
   ],
   "source": [
    "input_layer.output_shape"
   ]
  },
  {
   "cell_type": "markdown",
   "metadata": {},
   "source": [
    "## Submission\n",
    "When you're ready to submit, complete the following steps:\n",
    "1. Review the [rubric](https://review.udacity.com/#!/rubrics/1004/view) to ensure your submission meets all requirements to pass\n",
    "2. Generate an HTML version of this notebook\n",
    "\n",
    "  - Run the next cell to attempt automatic generation (this is the recommended method in Workspaces)\n",
    "  - Navigate to **FILE -> Download as -> HTML (.html)**\n",
    "  - Manually generate a copy using `nbconvert` from your shell terminal\n",
    "```\n",
    "$ pip install nbconvert\n",
    "$ python -m nbconvert machine_translation.ipynb\n",
    "```\n",
    "  \n",
    "3. Submit the project\n",
    "\n",
    "  - If you are in a Workspace, simply click the \"Submit Project\" button (bottom towards the right)\n",
    "  \n",
    "  - Otherwise, add the following files into a zip archive and submit them \n",
    "  - `helper.py`\n",
    "  - `machine_translation.ipynb`\n",
    "  - `machine_translation.html`\n",
    "    - You can export the notebook by navigating to **File -> Download as -> HTML (.html)**."
   ]
  },
  {
   "cell_type": "code",
   "execution_count": null,
   "metadata": {},
   "outputs": [],
   "source": [
    "!!python -m nbconvert *.ipynb"
   ]
  },
  {
   "cell_type": "markdown",
   "metadata": {},
   "source": [
    "## Optional Enhancements\n",
    "\n",
    "This project focuses on learning various network architectures for machine translation, but we don't evaluate the models according to best practices by splitting the data into separate test & training sets -- so the model accuracy is overstated. Use the [`sklearn.model_selection.train_test_split()`](http://scikit-learn.org/stable/modules/generated/sklearn.model_selection.train_test_split.html) function to create separate training & test datasets, then retrain each of the models using only the training set and evaluate the prediction accuracy using the hold out test set. Does the \"best\" model change?"
   ]
  }
 ],
 "metadata": {
  "kernelspec": {
   "display_name": "Python 3",
   "language": "python",
   "name": "python3"
  },
  "language_info": {
   "codemirror_mode": {
    "name": "ipython",
    "version": 3
   },
   "file_extension": ".py",
   "mimetype": "text/x-python",
   "name": "python",
   "nbconvert_exporter": "python",
   "pygments_lexer": "ipython3",
   "version": "3.5.2"
  }
 },
 "nbformat": 4,
 "nbformat_minor": 1
}
