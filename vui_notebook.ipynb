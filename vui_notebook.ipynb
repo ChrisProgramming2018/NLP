{
 "cells": [
  {
   "cell_type": "code",
   "execution_count": 1,
   "metadata": {},
   "outputs": [],
   "source": [
    "import sys"
   ]
  },
  {
   "cell_type": "code",
   "execution_count": 3,
   "metadata": {},
   "outputs": [],
   "source": [
    "import python_speech_features"
   ]
  },
  {
   "cell_type": "code",
   "execution_count": 2,
   "metadata": {},
   "outputs": [
    {
     "data": {
      "text/plain": [
       "'/usr/lib/python2.7/dist-packages/numpy/__init__.pyc'"
      ]
     },
     "execution_count": 2,
     "metadata": {},
     "output_type": "execute_result"
    }
   ],
   "source": [
    "import numpy\n",
    "numpy.__file__"
   ]
  },
  {
   "cell_type": "code",
   "execution_count": 12,
   "metadata": {},
   "outputs": [
    {
     "data": {
      "text/plain": [
       "['',\n",
       " '/home/info/udacity/deeplearning/6ReinforcementLearning/1RLinContinusSpace/gym',\n",
       " '/usr/lib/python2.7',\n",
       " '/usr/lib/python2.7/plat-x86_64-linux-gnu',\n",
       " '/usr/lib/python2.7/lib-tk',\n",
       " '/usr/lib/python2.7/lib-old',\n",
       " '/usr/lib/python2.7/lib-dynload',\n",
       " '/usr/local/lib/python2.7/dist-packages',\n",
       " '/usr/lib/python2.7/dist-packages',\n",
       " '/usr/lib/python2.7/dist-packages/PILcompat',\n",
       " '/usr/lib/python2.7/dist-packages/gtk-2.0',\n",
       " '/usr/local/lib/python2.7/dist-packages/IPython/extensions',\n",
       " '/home/info/.ipython',\n",
       " '/home/info/anaconda2/lib/python2.7/site-packages/python_speech_features/']"
      ]
     },
     "execution_count": 12,
     "metadata": {},
     "output_type": "execute_result"
    }
   ],
   "source": [
    "sys.path"
   ]
  },
  {
   "cell_type": "markdown",
   "metadata": {},
   "source": [
    "# Artificial Intelligence Nanodegree\n",
    "\n",
    "## Voice User Interfaces\n",
    "\n",
    "## Project: Speech Recognition with Neural Networks\n",
    "\n",
    "---\n",
    "\n",
    "In this notebook, some template code has already been provided for you, and you will need to implement additional functionality to successfully complete this project. You will not need to modify the included code beyond what is requested. Sections that begin with **'(IMPLEMENTATION)'** in the header indicate that the following blocks of code will require additional functionality which you must provide. Please be sure to read the instructions carefully! \n",
    "\n",
    "> **Note**: Once you have completed all of the code implementations, you need to finalize your work by exporting the Jupyter Notebook as an HTML document. Before exporting the notebook to html, all of the code cells need to have been run so that reviewers can see the final implementation and output. You can then export the notebook by using the menu above and navigating to  \\n\",\n",
    "    \"**File -> Download as -> HTML (.html)**. Include the finished document along with this notebook as your submission.\n",
    "\n",
    "In addition to implementing code, there will be questions that you must answer which relate to the project and your implementation. Each section where you will answer a question is preceded by a **'Question X'** header. Carefully read each question and provide thorough answers in the following text boxes that begin with **'Answer:'**. Your project submission will be evaluated based on your answers to each of the questions and the implementation you provide.\n",
    "\n",
    ">**Note:** Code and Markdown cells can be executed using the **Shift + Enter** keyboard shortcut.  Markdown cells can be edited by double-clicking the cell to enter edit mode.\n",
    "\n",
    "The rubric contains _optional_ \"Stand Out Suggestions\" for enhancing the project beyond the minimum requirements. If you decide to pursue the \"Stand Out Suggestions\", you should include the code in this Jupyter notebook.\n",
    "\n",
    "---\n",
    "\n",
    "## Introduction  \n",
    "\n",
    "In this notebook, you will build a deep neural network that functions as part of an end-to-end automatic speech recognition (ASR) pipeline!  Your completed pipeline will accept raw audio as input and return a predicted transcription of the spoken language.  The full pipeline is summarized in the figure below.\n",
    "\n",
    "<img src=\"images/pipeline.png\">\n",
    "\n",
    "- **STEP 1** is a pre-processing step that converts raw audio to one of two feature representations that are commonly used for ASR. \n",
    "- **STEP 2** is an acoustic model which accepts audio features as input and returns a probability distribution over all potential transcriptions.  After learning about the basic types of neural networks that are often used for acoustic modeling, you will engage in your own investigations, to design your own acoustic model!\n",
    "- **STEP 3** in the pipeline takes the output from the acoustic model and returns a predicted transcription.  \n",
    "\n",
    "Feel free to use the links below to navigate the notebook:\n",
    "- [The Data](#thedata)\n",
    "- [**STEP 1**](#step1): Acoustic Features for Speech Recognition\n",
    "- [**STEP 2**](#step2): Deep Neural Networks for Acoustic Modeling\n",
    "    - [Model 0](#model0): RNN\n",
    "    - [Model 1](#model1): RNN + TimeDistributed Dense\n",
    "    - [Model 2](#model2): CNN + RNN + TimeDistributed Dense\n",
    "    - [Model 3](#model3): Deeper RNN + TimeDistributed Dense\n",
    "    - [Model 4](#model4): Bidirectional RNN + TimeDistributed Dense\n",
    "    - [Models 5+](#model5)\n",
    "    - [Compare the Models](#compare)\n",
    "    - [Final Model](#final)\n",
    "- [**STEP 3**](#step3): Obtain Predictions\n",
    "\n",
    "<a id='thedata'></a>\n",
    "## The Data\n",
    "\n",
    "We begin by investigating the dataset that will be used to train and evaluate your pipeline.  [LibriSpeech](http://www.danielpovey.com/files/2015_icassp_librispeech.pdf) is a large corpus of English-read speech, designed for training and evaluating models for ASR.  The dataset contains 1000 hours of speech derived from audiobooks.  We will work with a small subset in this project, since larger-scale data would take a long while to train.  However, after completing this project, if you are interested in exploring further, you are encouraged to work with more of the data that is provided [online](http://www.openslr.org/12/).\n",
    "\n",
    "In the code cells below, you will use the `vis_train_features` module to visualize a training example.  The supplied argument `index=0` tells the module to extract the first example in the training set.  (You are welcome to change `index=0` to point to a different training example, if you like, but please **DO NOT** amend any other code in the cell.)  The returned variables are:\n",
    "- `vis_text` - transcribed text (label) for the training example.\n",
    "- `vis_raw_audio` - raw audio waveform for the training example.\n",
    "- `vis_mfcc_feature` - mel-frequency cepstral coefficients (MFCCs) for the training example.\n",
    "- `vis_spectrogram_feature` - spectrogram for the training example. \n",
    "- `vis_audio_path` - the file path to the training example."
   ]
  },
  {
   "cell_type": "code",
   "execution_count": 1,
   "metadata": {},
   "outputs": [],
   "source": [
    "import librosa"
   ]
  },
  {
   "cell_type": "code",
   "execution_count": 5,
   "metadata": {
    "scrolled": false
   },
   "outputs": [
    {
     "name": "stdout",
     "output_type": "stream",
     "text": [
      "There are 2136 total training examples.\n"
     ]
    }
   ],
   "source": [
    "from data_generator import vis_train_features\n",
    "\n",
    "# extract label and audio features for a single training example\n",
    "vis_text, vis_raw_audio, vis_mfcc_feature, vis_spectrogram_feature, vis_audio_path = vis_train_features()"
   ]
  },
  {
   "cell_type": "markdown",
   "metadata": {},
   "source": [
    "The following code cell visualizes the audio waveform for your chosen example, along with the corresponding transcript.  You also have the option to play the audio in the notebook!"
   ]
  },
  {
   "cell_type": "code",
   "execution_count": 6,
   "metadata": {},
   "outputs": [
    {
     "data": {
      "image/png": "[encoded data removed]",
      "text/plain": [
       "<matplotlib.figure.Figure at 0x7ff62cbea8d0>"
      ]
     },
     "metadata": {},
     "output_type": "display_data"
    },
    {
     "data": {
      "text/markdown": [
       "**Shape of Audio Signal** : (57220,)"
      ],
      "text/plain": [
       "<IPython.core.display.Markdown object>"
      ]
     },
     "metadata": {},
     "output_type": "display_data"
    },
    {
     "data": {
      "text/markdown": [
       "**Transcript** : advance into tennessee"
      ],
      "text/plain": [
       "<IPython.core.display.Markdown object>"
      ]
     },
     "metadata": {},
     "output_type": "display_data"
    },
    {
     "data": {
      "text/html": [
       "\n",
       "                <audio controls=\"controls\" >\n",
       "                    <source src=\"data:audio/x-wav;base64,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\" type=\"audio/x-wav\" />\n",
       "                    Your browser does not support the audio element.\n",
       "                </audio>\n",
       "              "
      ],
      "text/plain": [
       "<IPython.lib.display.Audio object>"
      ]
     },
     "execution_count": 6,
     "metadata": {},
     "output_type": "execute_result"
    }
   ],
   "source": [
    "from IPython.display import Markdown, display\n",
    "from data_generator import vis_train_features, plot_raw_audio\n",
    "from IPython.display import Audio\n",
    "%matplotlib inline\n",
    "\n",
    "# plot audio signal\n",
    "plot_raw_audio(vis_raw_audio)\n",
    "# print length of audio signal\n",
    "display(Markdown('**Shape of Audio Signal** : ' + str(vis_raw_audio.shape)))\n",
    "# print transcript corresponding to audio clip\n",
    "display(Markdown('**Transcript** : ' + str(vis_text)))\n",
    "# play the audio file\n",
    "Audio(vis_audio_path)"
   ]
  },
  {
   "cell_type": "markdown",
   "metadata": {},
   "source": [
    "<a id='step1'></a>\n",
    "## STEP 1: Acoustic Features for Speech Recognition\n",
    "\n",
    "For this project, you won't use the raw audio waveform as input to your model.  Instead, we provide code that first performs a pre-processing step to convert the raw audio to a feature representation that has historically proven successful for ASR models.  Your acoustic model will accept the feature representation as input.\n",
    "\n",
    "In this project, you will explore two possible feature representations.  _After completing the project_, if you'd like to read more about deep learning architectures that can accept raw audio input, you are encouraged to explore this [research paper](https://pdfs.semanticscholar.org/a566/cd4a8623d661a4931814d9dffc72ecbf63c4.pdf).\n",
    "\n",
    "### Spectrograms\n",
    "\n",
    "The first option for an audio feature representation is the [spectrogram](https://www.youtube.com/watch?v=_FatxGN3vAM).  In order to complete this project, you will **not** need to dig deeply into the details of how a spectrogram is calculated; but, if you are curious, the code for calculating the spectrogram was borrowed from [this repository](https://github.com/baidu-research/ba-dls-deepspeech).  The implementation appears in the `utils.py` file in your repository.\n",
    "\n",
    "The code that we give you returns the spectrogram as a 2D tensor, where the first (_vertical_) dimension indexes time, and the second (_horizontal_) dimension indexes frequency.  To speed the convergence of your algorithm, we have also normalized the spectrogram.  (You can see this quickly in the visualization below by noting that the mean value hovers around zero, and most entries in the tensor assume values close to zero.)"
   ]
  },
  {
   "cell_type": "code",
   "execution_count": null,
   "metadata": {
    "collapsed": true
   },
   "outputs": [],
   "source": [
    "from data_generator import plot_spectrogram_feature\n",
    "\n",
    "# plot normalized spectrogram\n",
    "plot_spectrogram_feature(vis_spectrogram_feature)\n",
    "# print shape of spectrogram\n",
    "display(Markdown('**Shape of Spectrogram** : ' + str(vis_spectrogram_feature.shape)))"
   ]
  },
  {
   "cell_type": "markdown",
   "metadata": {},
   "source": [
    "### Mel-Frequency Cepstral Coefficients (MFCCs)\n",
    "\n",
    "The second option for an audio feature representation is [MFCCs](https://en.wikipedia.org/wiki/Mel-frequency_cepstrum).  You do **not** need to dig deeply into the details of how MFCCs are calculated, but if you would like more information, you are welcome to peruse the [documentation](https://github.com/jameslyons/python_speech_features) of the `python_speech_features` Python package.  Just as with the spectrogram features, the MFCCs are normalized in the supplied code.\n",
    "\n",
    "The main idea behind MFCC features is the same as spectrogram features: at each time window, the MFCC feature yields a feature vector that characterizes the sound within the window.  Note that the MFCC feature is much lower-dimensional than the spectrogram feature, which could help an acoustic model to avoid overfitting to the training dataset. "
   ]
  },
  {
   "cell_type": "code",
   "execution_count": null,
   "metadata": {
    "collapsed": true
   },
   "outputs": [],
   "source": [
    "from data_generator import plot_mfcc_feature\n",
    "\n",
    "# plot normalized MFCC\n",
    "plot_mfcc_feature(vis_mfcc_feature)\n",
    "# print shape of MFCC\n",
    "display(Markdown('**Shape of MFCC** : ' + str(vis_mfcc_feature.shape)))"
   ]
  },
  {
   "cell_type": "markdown",
   "metadata": {},
   "source": [
    "When you construct your pipeline, you will be able to choose to use either spectrogram or MFCC features.  If you would like to see different implementations that make use of MFCCs and/or spectrograms, please check out the links below:\n",
    "- This [repository](https://github.com/baidu-research/ba-dls-deepspeech) uses spectrograms.\n",
    "- This [repository](https://github.com/mozilla/DeepSpeech) uses MFCCs.\n",
    "- This [repository](https://github.com/buriburisuri/speech-to-text-wavenet) also uses MFCCs.\n",
    "- This [repository](https://github.com/pannous/tensorflow-speech-recognition/blob/master/speech_data.py) experiments with raw audio, spectrograms, and MFCCs as features."
   ]
  },
  {
   "cell_type": "markdown",
   "metadata": {},
   "source": [
    "<a id='step2'></a>\n",
    "## STEP 2: Deep Neural Networks for Acoustic Modeling\n",
    "\n",
    "In this section, you will experiment with various neural network architectures for acoustic modeling.  \n",
    "\n",
    "You will begin by training five relatively simple architectures.  **Model 0** is provided for you.  You will write code to implement **Models 1**, **2**, **3**, and **4**.  If you would like to experiment further, you are welcome to create and train more models under the **Models 5+** heading.  \n",
    "\n",
    "All models will be specified in the `sample_models.py` file.  After importing the `sample_models` module, you will train your architectures in the notebook.\n",
    "\n",
    "After experimenting with the five simple architectures, you will have the opportunity to compare their performance.  Based on your findings, you will construct a deeper architecture that is designed to outperform all of the shallow models.\n",
    "\n",
    "For your convenience, we have designed the notebook so that each model can be specified and trained on separate occasions.  That is, say you decide to take a break from the notebook after training **Model 1**.  Then, you need not re-execute all prior code cells in the notebook before training **Model 2**.  You need only re-execute the code cell below, that is marked with **`RUN THIS CODE CELL IF YOU ARE RESUMING THE NOTEBOOK AFTER A BREAK`**, before transitioning to the code cells corresponding to **Model 2**."
   ]
  },
  {
   "cell_type": "code",
   "execution_count": null,
   "metadata": {
    "collapsed": true
   },
   "outputs": [],
   "source": [
    "#####################################################################\n",
    "# RUN THIS CODE CELL IF YOU ARE RESUMING THE NOTEBOOK AFTER A BREAK #\n",
    "#####################################################################\n",
    "\n",
    "# allocate 50% of GPU memory (if you like, feel free to change this)\n",
    "from keras.backend.tensorflow_backend import set_session\n",
    "import tensorflow as tf \n",
    "config = tf.ConfigProto()\n",
    "config.gpu_options.per_process_gpu_memory_fraction = 0.5\n",
    "set_session(tf.Session(config=config))\n",
    "\n",
    "# watch for any changes in the sample_models module, and reload it automatically\n",
    "%load_ext autoreload\n",
    "%autoreload 2\n",
    "# import NN architectures for speech recognition\n",
    "from sample_models import *\n",
    "# import function for training acoustic model\n",
    "from train_utils import train_model"
   ]
  },
  {
   "cell_type": "markdown",
   "metadata": {},
   "source": [
    "<a id='model0'></a>\n",
    "### Model 0: RNN\n",
    "\n",
    "Given their effectiveness in modeling sequential data, the first acoustic model you will use is an RNN.  As shown in the figure below, the RNN we supply to you will take the time sequence of audio features as input.\n",
    "\n",
    "<img src=\"images/simple_rnn.png\" width=\"50%\">\n",
    "\n",
    "At each time step, the speaker pronounces one of 28 possible characters, including each of the 26 letters in the English alphabet, along with a space character (\" \"), and an apostrophe (').\n",
    "\n",
    "The output of the RNN at each time step is a vector of probabilities with 29 entries, where the $i$-th entry encodes the probability that the $i$-th character is spoken in the time sequence.  (The extra 29th character is an empty \"character\" used to pad training examples within batches containing uneven lengths.)  If you would like to peek under the hood at how characters are mapped to indices in the probability vector, look at the `char_map.py` file in the repository.  The figure below shows an equivalent, rolled depiction of the RNN that shows the output layer in greater detail. \n",
    "\n",
    "<img src=\"images/simple_rnn_unrolled.png\" width=\"60%\">\n",
    "\n",
    "The model has already been specified for you in Keras.  To import it, you need only run the code cell below.  "
   ]
  },
  {
   "cell_type": "code",
   "execution_count": null,
   "metadata": {
    "collapsed": true
   },
   "outputs": [],
   "source": [
    "model_0 = simple_rnn_model(input_dim=161) # change to 13 if you would like to use MFCC features"
   ]
  },
  {
   "cell_type": "markdown",
   "metadata": {},
   "source": [
    "As explored in the lesson, you will train the acoustic model with the [CTC loss](http://www.cs.toronto.edu/~graves/icml_2006.pdf) criterion.  Custom loss functions take a bit of hacking in Keras, and so we have implemented the CTC loss function for you, so that you can focus on trying out as many deep learning architectures as possible :).  If you'd like to peek at the implementation details, look at the `add_ctc_loss` function within the `train_utils.py` file in the repository.\n",
    "\n",
    "To train your architecture, you will use the `train_model` function within the `train_utils` module; it has already been imported in one of the above code cells.  The `train_model` function takes three **required** arguments:\n",
    "- `input_to_softmax` - a Keras model instance.\n",
    "- `pickle_path` - the name of the pickle file where the loss history will be saved.\n",
    "- `save_model_path` - the name of the HDF5 file where the model will be saved.\n",
    "\n",
    "If we have already supplied values for `input_to_softmax`, `pickle_path`, and `save_model_path`, please **DO NOT** modify these values. \n",
    "\n",
    "There are several **optional** arguments that allow you to have more control over the training process.  You are welcome to, but not required to, supply your own values for these arguments.\n",
    "- `minibatch_size` - the size of the minibatches that are generated while training the model (default: `20`).\n",
    "- `spectrogram` - Boolean value dictating whether spectrogram (`True`) or MFCC (`False`) features are used for training (default: `True`).\n",
    "- `mfcc_dim` - the size of the feature dimension to use when generating MFCC features (default: `13`).\n",
    "- `optimizer` - the Keras optimizer used to train the model (default: `SGD(lr=0.02, decay=1e-6, momentum=0.9, nesterov=True, clipnorm=5)`).  \n",
    "- `epochs` - the number of epochs to use to train the model (default: `20`).  If you choose to modify this parameter, make sure that it is *at least* 20.\n",
    "- `verbose` - controls the verbosity of the training output in the `model.fit_generator` method (default: `1`).\n",
    "- `sort_by_duration` - Boolean value dictating whether the training and validation sets are sorted by (increasing) duration before the start of the first epoch (default: `False`).\n",
    "\n",
    "The `train_model` function defaults to using spectrogram features; if you choose to use these features, note that the acoustic model in `simple_rnn_model` should have `input_dim=161`.  Otherwise, if you choose to use MFCC features, the acoustic model should have `input_dim=13`.\n",
    "\n",
    "We have chosen to use `GRU` units in the supplied RNN.  If you would like to experiment with `LSTM` or `SimpleRNN` cells, feel free to do so here.  If you change the `GRU` units to `SimpleRNN` cells in `simple_rnn_model`, you may notice that the loss quickly becomes undefined (`nan`) - you are strongly encouraged to check this for yourself!  This is due to the [exploding gradients problem](http://www.wildml.com/2015/10/recurrent-neural-networks-tutorial-part-3-backpropagation-through-time-and-vanishing-gradients/).  We have already implemented [gradient clipping](https://arxiv.org/pdf/1211.5063.pdf) in your optimizer to help you avoid this issue.\n",
    "\n",
    "__IMPORTANT NOTE:__ If you notice that your gradient has exploded in any of the models below, feel free to explore more with gradient clipping (the `clipnorm` argument in your optimizer) or swap out any `SimpleRNN` cells for `LSTM` or `GRU` cells.  You can also try restarting the kernel to restart the training process."
   ]
  },
  {
   "cell_type": "code",
   "execution_count": null,
   "metadata": {
    "collapsed": true
   },
   "outputs": [],
   "source": [
    "train_model(input_to_softmax=model_0, \n",
    "            pickle_path='model_0.pickle', \n",
    "            save_model_path='model_0.h5',\n",
    "            spectrogram=True) # change to False if you would like to use MFCC features"
   ]
  },
  {
   "cell_type": "markdown",
   "metadata": {},
   "source": [
    "<a id='model1'></a>\n",
    "### (IMPLEMENTATION) Model 1: RNN + TimeDistributed Dense\n",
    "\n",
    "Read about the [TimeDistributed](https://keras.io/layers/wrappers/) wrapper and the [BatchNormalization](https://keras.io/layers/normalization/) layer in the Keras documentation.  For your next architecture, you will add [batch normalization](https://arxiv.org/pdf/1510.01378.pdf) to the recurrent layer to reduce training times.  The `TimeDistributed` layer will be used to find more complex patterns in the dataset.  The unrolled snapshot of the architecture is depicted below.\n",
    "\n",
    "<img src=\"images/rnn_model.png\" width=\"60%\">\n",
    "\n",
    "The next figure shows an equivalent, rolled depiction of the RNN that shows the (`TimeDistrbuted`) dense and output layers in greater detail.  \n",
    "\n",
    "<img src=\"images/rnn_model_unrolled.png\" width=\"60%\">\n",
    "\n",
    "Use your research to complete the `rnn_model` function within the `sample_models.py` file.  The function should specify an architecture that satisfies the following requirements:\n",
    "- The first layer of the neural network should be an RNN (`SimpleRNN`, `LSTM`, or `GRU`) that takes the time sequence of audio features as input.  We have added `GRU` units for you, but feel free to change `GRU` to `SimpleRNN` or `LSTM`, if you like!\n",
    "- Whereas the architecture in `simple_rnn_model` treated the RNN output as the final layer of the model, you will use the output of your RNN as a hidden layer.  Use `TimeDistributed` to apply a `Dense` layer to each of the time steps in the RNN output.  Ensure that each `Dense` layer has `output_dim` units.\n",
    "\n",
    "Use the code cell below to load your model into the `model_1` variable.  Use a value for `input_dim` that matches your chosen audio features, and feel free to change the values for `units` and `activation` to tweak the behavior of your recurrent layer."
   ]
  },
  {
   "cell_type": "code",
   "execution_count": null,
   "metadata": {
    "collapsed": true,
    "scrolled": true
   },
   "outputs": [],
   "source": [
    "model_1 = rnn_model(input_dim=161, # change to 13 if you would like to use MFCC features\n",
    "                    units=200,\n",
    "                    activation='relu')"
   ]
  },
  {
   "cell_type": "markdown",
   "metadata": {},
   "source": [
    "Please execute the code cell below to train the neural network you specified in `input_to_softmax`.  After the model has finished training, the model is [saved](https://keras.io/getting-started/faq/#how-can-i-save-a-keras-model) in the HDF5 file `model_1.h5`.  The loss history is [saved](https://wiki.python.org/moin/UsingPickle) in `model_1.pickle`.  You are welcome to tweak any of the optional parameters while calling the `train_model` function, but this is not required."
   ]
  },
  {
   "cell_type": "code",
   "execution_count": null,
   "metadata": {
    "collapsed": true
   },
   "outputs": [],
   "source": [
    "train_model(input_to_softmax=model_1, \n",
    "            pickle_path='model_1.pickle', \n",
    "            save_model_path='model_1.h5',\n",
    "            spectrogram=True) # change to False if you would like to use MFCC features"
   ]
  },
  {
   "cell_type": "markdown",
   "metadata": {},
   "source": [
    "<a id='model2'></a>\n",
    "### (IMPLEMENTATION) Model 2: CNN + RNN + TimeDistributed Dense\n",
    "\n",
    "The architecture in `cnn_rnn_model` adds an additional level of complexity, by introducing a [1D convolution layer](https://keras.io/layers/convolutional/#conv1d).  \n",
    "\n",
    "<img src=\"images/cnn_rnn_model.png\" width=\"100%\">\n",
    "\n",
    "This layer incorporates many arguments that can be (optionally) tuned when calling the `cnn_rnn_model` module.  We provide sample starting parameters, which you might find useful if you choose to use spectrogram audio features.  \n",
    "\n",
    "If you instead want to use MFCC features, these arguments will have to be tuned.  Note that the current architecture only supports values of `'same'` or `'valid'` for the `conv_border_mode` argument.\n",
    "\n",
    "When tuning the parameters, be careful not to choose settings that make the convolutional layer overly small.  If the temporal length of the CNN layer is shorter than the length of the transcribed text label, your code will throw an error.\n",
    "\n",
    "Before running the code cell below, you must modify the `cnn_rnn_model` function in `sample_models.py`.  Please add batch normalization to the recurrent layer, and provide the same `TimeDistributed` layer as before."
   ]
  },
  {
   "cell_type": "code",
   "execution_count": null,
   "metadata": {
    "collapsed": true
   },
   "outputs": [],
   "source": [
    "model_2 = cnn_rnn_model(input_dim=161, # change to 13 if you would like to use MFCC features\n",
    "                        filters=200,\n",
    "                        kernel_size=11, \n",
    "                        conv_stride=2,\n",
    "                        conv_border_mode='valid',\n",
    "                        units=200)"
   ]
  },
  {
   "cell_type": "markdown",
   "metadata": {},
   "source": [
    "Please execute the code cell below to train the neural network you specified in `input_to_softmax`.  After the model has finished training, the model is [saved](https://keras.io/getting-started/faq/#how-can-i-save-a-keras-model) in the HDF5 file `model_2.h5`.  The loss history is [saved](https://wiki.python.org/moin/UsingPickle) in `model_2.pickle`.  You are welcome to tweak any of the optional parameters while calling the `train_model` function, but this is not required."
   ]
  },
  {
   "cell_type": "code",
   "execution_count": null,
   "metadata": {
    "collapsed": true
   },
   "outputs": [],
   "source": [
    "train_model(input_to_softmax=model_2, \n",
    "            pickle_path='model_2.pickle', \n",
    "            save_model_path='model_2.h5', \n",
    "            spectrogram=True) # change to False if you would like to use MFCC features"
   ]
  },
  {
   "cell_type": "markdown",
   "metadata": {},
   "source": [
    "<a id='model3'></a>\n",
    "### (IMPLEMENTATION) Model 3: Deeper RNN + TimeDistributed Dense\n",
    "\n",
    "Review the code in `rnn_model`, which makes use of a single recurrent layer.  Now, specify an architecture in `deep_rnn_model` that utilizes a variable number `recur_layers` of recurrent layers.  The figure below shows the architecture that should be returned if `recur_layers=2`.  In the figure, the output sequence of the first recurrent layer is used as input for the next recurrent layer.\n",
    "\n",
    "<img src=\"images/deep_rnn_model.png\" width=\"80%\">\n",
    "\n",
    "Feel free to change the supplied values of `units` to whatever you think performs best.  You can change the value of `recur_layers`, as long as your final value is greater than 1. (As a quick check that you have implemented the additional functionality in `deep_rnn_model` correctly, make sure that the architecture that you specify here is identical to `rnn_model` if `recur_layers=1`.)"
   ]
  },
  {
   "cell_type": "code",
   "execution_count": null,
   "metadata": {
    "collapsed": true
   },
   "outputs": [],
   "source": [
    "model_3 = deep_rnn_model(input_dim=161, # change to 13 if you would like to use MFCC features\n",
    "                         units=200,\n",
    "                         recur_layers=2) "
   ]
  },
  {
   "cell_type": "markdown",
   "metadata": {},
   "source": [
    "Please execute the code cell below to train the neural network you specified in `input_to_softmax`.  After the model has finished training, the model is [saved](https://keras.io/getting-started/faq/#how-can-i-save-a-keras-model) in the HDF5 file `model_3.h5`.  The loss history is [saved](https://wiki.python.org/moin/UsingPickle) in `model_3.pickle`.  You are welcome to tweak any of the optional parameters while calling the `train_model` function, but this is not required."
   ]
  },
  {
   "cell_type": "code",
   "execution_count": null,
   "metadata": {
    "collapsed": true
   },
   "outputs": [],
   "source": [
    "train_model(input_to_softmax=model_3, \n",
    "            pickle_path='model_3.pickle', \n",
    "            save_model_path='model_3.h5', \n",
    "            spectrogram=True) # change to False if you would like to use MFCC features"
   ]
  },
  {
   "cell_type": "markdown",
   "metadata": {},
   "source": [
    "<a id='model4'></a>\n",
    "### (IMPLEMENTATION) Model 4: Bidirectional RNN + TimeDistributed Dense\n",
    "\n",
    "Read about the [Bidirectional](https://keras.io/layers/wrappers/) wrapper in the Keras documentation.  For your next architecture, you will specify an architecture that uses a single bidirectional RNN layer, before a (`TimeDistributed`) dense layer.  The added value of a bidirectional RNN is described well in [this paper](http://www.cs.toronto.edu/~hinton/absps/DRNN_speech.pdf).\n",
    "> One shortcoming of conventional RNNs is that they are only able to make use of previous context. In speech recognition, where whole utterances are transcribed at once, there is no reason not to exploit future context as well.  Bidirectional RNNs (BRNNs) do this by processing the data in both directions with two separate hidden layers which are then fed forwards to the same output layer.\n",
    "\n",
    "<img src=\"images/bidirectional_rnn_model.png\" width=\"80%\">\n",
    "\n",
    "Before running the code cell below, you must complete the `bidirectional_rnn_model` function in `sample_models.py`.  Feel free to use `SimpleRNN`, `LSTM`, or `GRU` units.  When specifying the `Bidirectional` wrapper, use `merge_mode='concat'`."
   ]
  },
  {
   "cell_type": "code",
   "execution_count": null,
   "metadata": {
    "collapsed": true
   },
   "outputs": [],
   "source": [
    "model_4 = bidirectional_rnn_model(input_dim=161, # change to 13 if you would like to use MFCC features\n",
    "                                  units=200)"
   ]
  },
  {
   "cell_type": "markdown",
   "metadata": {},
   "source": [
    "Please execute the code cell below to train the neural network you specified in `input_to_softmax`.  After the model has finished training, the model is [saved](https://keras.io/getting-started/faq/#how-can-i-save-a-keras-model) in the HDF5 file `model_4.h5`.  The loss history is [saved](https://wiki.python.org/moin/UsingPickle) in `model_4.pickle`.  You are welcome to tweak any of the optional parameters while calling the `train_model` function, but this is not required."
   ]
  },
  {
   "cell_type": "code",
   "execution_count": null,
   "metadata": {
    "collapsed": true
   },
   "outputs": [],
   "source": [
    "train_model(input_to_softmax=model_4, \n",
    "            pickle_path='model_4.pickle', \n",
    "            save_model_path='model_4.h5', \n",
    "            spectrogram=True) # change to False if you would like to use MFCC features"
   ]
  },
  {
   "cell_type": "markdown",
   "metadata": {},
   "source": [
    "<a id='model5'></a>\n",
    "### (OPTIONAL IMPLEMENTATION) Models 5+\n",
    "\n",
    "If you would like to try out more architectures than the ones above, please use the code cell below.  Please continue to follow the same convention for saving the models; for the $i$-th sample model, please save the loss at **`model_i.pickle`** and saving the trained model at **`model_i.h5`**."
   ]
  },
  {
   "cell_type": "code",
   "execution_count": null,
   "metadata": {
    "collapsed": true
   },
   "outputs": [],
   "source": [
    "## (Optional) TODO: Try out some more models!\n",
    "### Feel free to use as many code cells as needed."
   ]
  },
  {
   "cell_type": "markdown",
   "metadata": {},
   "source": [
    "<a id='compare'></a>\n",
    "### Compare the Models\n",
    "\n",
    "Execute the code cell below to evaluate the performance of the drafted deep learning models.  The training and validation loss are plotted for each model."
   ]
  },
  {
   "cell_type": "code",
   "execution_count": null,
   "metadata": {
    "collapsed": true
   },
   "outputs": [],
   "source": [
    "from glob import glob\n",
    "import numpy as np\n",
    "import _pickle as pickle\n",
    "import seaborn as sns\n",
    "import matplotlib.pyplot as plt\n",
    "%matplotlib inline\n",
    "sns.set_style(style='white')\n",
    "\n",
    "# obtain the paths for the saved model history\n",
    "all_pickles = sorted(glob(\"results/*.pickle\"))\n",
    "# extract the name of each model\n",
    "model_names = [item[8:-7] for item in all_pickles]\n",
    "# extract the loss history for each model\n",
    "valid_loss = [pickle.load( open( i, \"rb\" ) )['val_loss'] for i in all_pickles]\n",
    "train_loss = [pickle.load( open( i, \"rb\" ) )['loss'] for i in all_pickles]\n",
    "# save the number of epochs used to train each model\n",
    "num_epochs = [len(valid_loss[i]) for i in range(len(valid_loss))]\n",
    "\n",
    "fig = plt.figure(figsize=(16,5))\n",
    "\n",
    "# plot the training loss vs. epoch for each model\n",
    "ax1 = fig.add_subplot(121)\n",
    "for i in range(len(all_pickles)):\n",
    "    ax1.plot(np.linspace(1, num_epochs[i], num_epochs[i]), \n",
    "            train_loss[i], label=model_names[i])\n",
    "# clean up the plot\n",
    "ax1.legend()  \n",
    "ax1.set_xlim([1, max(num_epochs)])\n",
    "plt.xlabel('Epoch')\n",
    "plt.ylabel('Training Loss')\n",
    "\n",
    "# plot the validation loss vs. epoch for each model\n",
    "ax2 = fig.add_subplot(122)\n",
    "for i in range(len(all_pickles)):\n",
    "    ax2.plot(np.linspace(1, num_epochs[i], num_epochs[i]), \n",
    "            valid_loss[i], label=model_names[i])\n",
    "# clean up the plot\n",
    "ax2.legend()  \n",
    "ax2.set_xlim([1, max(num_epochs)])\n",
    "plt.xlabel('Epoch')\n",
    "plt.ylabel('Validation Loss')\n",
    "plt.show()"
   ]
  },
  {
   "cell_type": "markdown",
   "metadata": {},
   "source": [
    "__Question 1:__ Use the plot above to analyze the performance of each of the attempted architectures.  Which performs best?  Provide an explanation regarding why you think some models perform better than others. \n",
    "\n",
    "__Answer:__"
   ]
  },
  {
   "cell_type": "markdown",
   "metadata": {},
   "source": [
    "<a id='final'></a>\n",
    "### (IMPLEMENTATION) Final Model\n",
    "\n",
    "Now that you've tried out many sample models, use what you've learned to draft your own architecture!  While your final acoustic model should not be identical to any of the architectures explored above, you are welcome to merely combine the explored layers above into a deeper architecture.  It is **NOT** necessary to include new layer types that were not explored in the notebook.\n",
    "\n",
    "However, if you would like some ideas for even more layer types, check out these ideas for some additional, optional extensions to your model:\n",
    "\n",
    "- If you notice your model is overfitting to the training dataset, consider adding **dropout**!  To add dropout to [recurrent layers](https://faroit.github.io/keras-docs/1.0.2/layers/recurrent/), pay special attention to the `dropout_W` and `dropout_U` arguments.  This [paper](http://arxiv.org/abs/1512.05287) may also provide some interesting theoretical background.\n",
    "- If you choose to include a convolutional layer in your model, you may get better results by working with **dilated convolutions**.  If you choose to use dilated convolutions, make sure that you are able to accurately calculate the length of the acoustic model's output in the `model.output_length` lambda function.  You can read more about dilated convolutions in Google's [WaveNet paper](https://arxiv.org/abs/1609.03499).  For an example of a speech-to-text system that makes use of dilated convolutions, check out this GitHub [repository](https://github.com/buriburisuri/speech-to-text-wavenet).  You can work with dilated convolutions [in Keras](https://keras.io/layers/convolutional/) by paying special attention to the `padding` argument when you specify a convolutional layer.\n",
    "- If your model makes use of convolutional layers, why not also experiment with adding **max pooling**?  Check out [this paper](https://arxiv.org/pdf/1701.02720.pdf) for example architecture that makes use of max pooling in an acoustic model.\n",
    "- So far, you have experimented with a single bidirectional RNN layer.  Consider stacking the bidirectional layers, to produce a [deep bidirectional RNN](https://www.cs.toronto.edu/~graves/asru_2013.pdf)!\n",
    "\n",
    "All models that you specify in this repository should have `output_length` defined as an attribute.  This attribute is a lambda function that maps the (temporal) length of the input acoustic features to the (temporal) length of the output softmax layer.  This function is used in the computation of CTC loss; to see this, look at the `add_ctc_loss` function in `train_utils.py`.  To see where the `output_length` attribute is defined for the models in the code, take a look at the `sample_models.py` file.  You will notice this line of code within most models:\n",
    "```\n",
    "model.output_length = lambda x: x\n",
    "```\n",
    "The acoustic model that incorporates a convolutional layer (`cnn_rnn_model`) has a line that is a bit different:\n",
    "```\n",
    "model.output_length = lambda x: cnn_output_length(\n",
    "        x, kernel_size, conv_border_mode, conv_stride)\n",
    "```\n",
    "\n",
    "In the case of models that use purely recurrent layers, the lambda function is the identity function, as the recurrent layers do not modify the (temporal) length of their input tensors.  However, convolutional layers are more complicated and require a specialized function (`cnn_output_length` in `sample_models.py`) to determine the temporal length of their output.\n",
    "\n",
    "You will have to add the `output_length` attribute to your final model before running the code cell below.  Feel free to use the `cnn_output_length` function, if it suits your model. "
   ]
  },
  {
   "cell_type": "code",
   "execution_count": null,
   "metadata": {
    "collapsed": true
   },
   "outputs": [],
   "source": [
    "# specify the model\n",
    "model_end = final_model()"
   ]
  },
  {
   "cell_type": "markdown",
   "metadata": {},
   "source": [
    "Please execute the code cell below to train the neural network you specified in `input_to_softmax`.  After the model has finished training, the model is [saved](https://keras.io/getting-started/faq/#how-can-i-save-a-keras-model) in the HDF5 file `model_end.h5`.  The loss history is [saved](https://wiki.python.org/moin/UsingPickle) in `model_end.pickle`.  You are welcome to tweak any of the optional parameters while calling the `train_model` function, but this is not required."
   ]
  },
  {
   "cell_type": "code",
   "execution_count": null,
   "metadata": {
    "collapsed": true
   },
   "outputs": [],
   "source": [
    "train_model(input_to_softmax=model_end, \n",
    "            pickle_path='model_end.pickle', \n",
    "            save_model_path='model_end.h5', \n",
    "            spectrogram=True) # change to False if you would like to use MFCC features"
   ]
  },
  {
   "cell_type": "markdown",
   "metadata": {},
   "source": [
    "__Question 2:__ Describe your final model architecture and your reasoning at each step.  \n",
    "\n",
    "__Answer:__"
   ]
  },
  {
   "cell_type": "markdown",
   "metadata": {},
   "source": [
    "<a id='step3'></a>\n",
    "## STEP 3: Obtain Predictions\n",
    "\n",
    "We have written a function for you to decode the predictions of your acoustic model.  To use the function, please execute the code cell below."
   ]
  },
  {
   "cell_type": "code",
   "execution_count": null,
   "metadata": {
    "collapsed": true
   },
   "outputs": [],
   "source": [
    "import numpy as np\n",
    "from data_generator import AudioGenerator\n",
    "from keras import backend as K\n",
    "from utils import int_sequence_to_text\n",
    "from IPython.display import Audio\n",
    "\n",
    "def get_predictions(index, partition, input_to_softmax, model_path):\n",
    "    \"\"\" Print a model's decoded predictions\n",
    "    Params:\n",
    "        index (int): The example you would like to visualize\n",
    "        partition (str): One of 'train' or 'validation'\n",
    "        input_to_softmax (Model): The acoustic model\n",
    "        model_path (str): Path to saved acoustic model's weights\n",
    "    \"\"\"\n",
    "    # load the train and test data\n",
    "    data_gen = AudioGenerator()\n",
    "    data_gen.load_train_data()\n",
    "    data_gen.load_validation_data()\n",
    "    \n",
    "    # obtain the true transcription and the audio features \n",
    "    if partition == 'validation':\n",
    "        transcr = data_gen.valid_texts[index]\n",
    "        audio_path = data_gen.valid_audio_paths[index]\n",
    "        data_point = data_gen.normalize(data_gen.featurize(audio_path))\n",
    "    elif partition == 'train':\n",
    "        transcr = data_gen.train_texts[index]\n",
    "        audio_path = data_gen.train_audio_paths[index]\n",
    "        data_point = data_gen.normalize(data_gen.featurize(audio_path))\n",
    "    else:\n",
    "        raise Exception('Invalid partition!  Must be \"train\" or \"validation\"')\n",
    "        \n",
    "    # obtain and decode the acoustic model's predictions\n",
    "    input_to_softmax.load_weights(model_path)\n",
    "    prediction = input_to_softmax.predict(np.expand_dims(data_point, axis=0))\n",
    "    output_length = [input_to_softmax.output_length(data_point.shape[0])] \n",
    "    pred_ints = (K.eval(K.ctc_decode(\n",
    "                prediction, output_length)[0][0])+1).flatten().tolist()\n",
    "    \n",
    "    # play the audio file, and display the true and predicted transcriptions\n",
    "    print('-'*80)\n",
    "    Audio(audio_path)\n",
    "    print('True transcription:\\n' + '\\n' + transcr)\n",
    "    print('-'*80)\n",
    "    print('Predicted transcription:\\n' + '\\n' + ''.join(int_sequence_to_text(pred_ints)))\n",
    "    print('-'*80)"
   ]
  },
  {
   "cell_type": "markdown",
   "metadata": {},
   "source": [
    "Use the code cell below to obtain the transcription predicted by your final model for the first example in the training dataset."
   ]
  },
  {
   "cell_type": "code",
   "execution_count": null,
   "metadata": {
    "collapsed": true
   },
   "outputs": [],
   "source": [
    "get_predictions(index=0, \n",
    "                partition='train',\n",
    "                input_to_softmax=final_model(), \n",
    "                model_path='model_end.h5')"
   ]
  },
  {
   "cell_type": "markdown",
   "metadata": {},
   "source": [
    "Use the next code cell to visualize the model's prediction for the first example in the validation dataset."
   ]
  },
  {
   "cell_type": "code",
   "execution_count": null,
   "metadata": {
    "collapsed": true
   },
   "outputs": [],
   "source": [
    "get_predictions(index=0, \n",
    "                partition='validation',\n",
    "                input_to_softmax=final_model(), \n",
    "                model_path='model_end.h5')"
   ]
  },
  {
   "cell_type": "markdown",
   "metadata": {},
   "source": [
    "One standard way to improve the results of the decoder is to incorporate a language model.  We won't pursue this in the notebook, but you are welcome to do so as an _optional extension_. \n",
    "\n",
    "If you are interested in creating models that provide improved transcriptions, you are encouraged to download [more data](http://www.openslr.org/12/) and train bigger, deeper models.  But beware - the model will likely take a long while to train.  For instance, training this [state-of-the-art](https://arxiv.org/pdf/1512.02595v1.pdf) model would take 3-6 weeks on a single GPU!"
   ]
  }
 ],
 "metadata": {
  "anaconda-cloud": {},
  "kernelspec": {
   "display_name": "aind-vui",
   "language": "python",
   "name": "aind-vui"
  },
  "language_info": {
   "codemirror_mode": {
    "name": "ipython",
    "version": 2
   },
   "file_extension": ".py",
   "mimetype": "text/x-python",
   "name": "python",
   "nbconvert_exporter": "python",
   "pygments_lexer": "ipython2",
   "version": "2.7.12"
  }
 },
 "nbformat": 4,
 "nbformat_minor": 2
}
